{
  "nbformat": 4,
  "nbformat_minor": 0,
  "metadata": {
    "colab": {
      "name": "assgn1_group4.ipynb",
      "provenance": [],
      "collapsed_sections": [],
      "include_colab_link": true
    },
    "kernelspec": {
      "name": "python3",
      "display_name": "Python 3"
    },
    "language_info": {
      "name": "python"
    }
  },
  "cells": [
    {
      "cell_type": "markdown",
      "metadata": {
        "id": "view-in-github",
        "colab_type": "text"
      },
      "source": [
        "<a href=\"https://colab.research.google.com/github/souroo016/ML-Assignment-1/blob/main/assgn1_group4.ipynb\" target=\"_parent\"><img src=\"https://colab.research.google.com/assets/colab-badge.svg\" alt=\"Open In Colab\"/></a>"
      ]
    },
    {
      "cell_type": "code",
      "metadata": {
        "colab": {
          "base_uri": "https://localhost:8080/"
        },
        "id": "aXF4t0FTGJQ4",
        "outputId": "4c2b9065-006e-4117-c59f-3118fecd00f1"
      },
      "source": [
        "print('Hello world')"
      ],
      "execution_count": null,
      "outputs": [
        {
          "output_type": "stream",
          "name": "stdout",
          "text": [
            "Hello world\n"
          ]
        }
      ]
    },
    {
      "cell_type": "code",
      "metadata": {
        "colab": {
          "resources": {
            "http://localhost:8080/nbextensions/google.colab/files.js": {
              "data": "Ly8gQ29weXJpZ2h0IDIwMTcgR29vZ2xlIExMQwovLwovLyBMaWNlbnNlZCB1bmRlciB0aGUgQXBhY2hlIExpY2Vuc2UsIFZlcnNpb24gMi4wICh0aGUgIkxpY2Vuc2UiKTsKLy8geW91IG1heSBub3QgdXNlIHRoaXMgZmlsZSBleGNlcHQgaW4gY29tcGxpYW5jZSB3aXRoIHRoZSBMaWNlbnNlLgovLyBZb3UgbWF5IG9idGFpbiBhIGNvcHkgb2YgdGhlIExpY2Vuc2UgYXQKLy8KLy8gICAgICBodHRwOi8vd3d3LmFwYWNoZS5vcmcvbGljZW5zZXMvTElDRU5TRS0yLjAKLy8KLy8gVW5sZXNzIHJlcXVpcmVkIGJ5IGFwcGxpY2FibGUgbGF3IG9yIGFncmVlZCB0byBpbiB3cml0aW5nLCBzb2Z0d2FyZQovLyBkaXN0cmlidXRlZCB1bmRlciB0aGUgTGljZW5zZSBpcyBkaXN0cmlidXRlZCBvbiBhbiAiQVMgSVMiIEJBU0lTLAovLyBXSVRIT1VUIFdBUlJBTlRJRVMgT1IgQ09ORElUSU9OUyBPRiBBTlkgS0lORCwgZWl0aGVyIGV4cHJlc3Mgb3IgaW1wbGllZC4KLy8gU2VlIHRoZSBMaWNlbnNlIGZvciB0aGUgc3BlY2lmaWMgbGFuZ3VhZ2UgZ292ZXJuaW5nIHBlcm1pc3Npb25zIGFuZAovLyBsaW1pdGF0aW9ucyB1bmRlciB0aGUgTGljZW5zZS4KCi8qKgogKiBAZmlsZW92ZXJ2aWV3IEhlbHBlcnMgZm9yIGdvb2dsZS5jb2xhYiBQeXRob24gbW9kdWxlLgogKi8KKGZ1bmN0aW9uKHNjb3BlKSB7CmZ1bmN0aW9uIHNwYW4odGV4dCwgc3R5bGVBdHRyaWJ1dGVzID0ge30pIHsKICBjb25zdCBlbGVtZW50ID0gZG9jdW1lbnQuY3JlYXRlRWxlbWVudCgnc3BhbicpOwogIGVsZW1lbnQudGV4dENvbnRlbnQgPSB0ZXh0OwogIGZvciAoY29uc3Qga2V5IG9mIE9iamVjdC5rZXlzKHN0eWxlQXR0cmlidXRlcykpIHsKICAgIGVsZW1lbnQuc3R5bGVba2V5XSA9IHN0eWxlQXR0cmlidXRlc1trZXldOwogIH0KICByZXR1cm4gZWxlbWVudDsKfQoKLy8gTWF4IG51bWJlciBvZiBieXRlcyB3aGljaCB3aWxsIGJlIHVwbG9hZGVkIGF0IGEgdGltZS4KY29uc3QgTUFYX1BBWUxPQURfU0laRSA9IDEwMCAqIDEwMjQ7CgpmdW5jdGlvbiBfdXBsb2FkRmlsZXMoaW5wdXRJZCwgb3V0cHV0SWQpIHsKICBjb25zdCBzdGVwcyA9IHVwbG9hZEZpbGVzU3RlcChpbnB1dElkLCBvdXRwdXRJZCk7CiAgY29uc3Qgb3V0cHV0RWxlbWVudCA9IGRvY3VtZW50LmdldEVsZW1lbnRCeUlkKG91dHB1dElkKTsKICAvLyBDYWNoZSBzdGVwcyBvbiB0aGUgb3V0cHV0RWxlbWVudCB0byBtYWtlIGl0IGF2YWlsYWJsZSBmb3IgdGhlIG5leHQgY2FsbAogIC8vIHRvIHVwbG9hZEZpbGVzQ29udGludWUgZnJvbSBQeXRob24uCiAgb3V0cHV0RWxlbWVudC5zdGVwcyA9IHN0ZXBzOwoKICByZXR1cm4gX3VwbG9hZEZpbGVzQ29udGludWUob3V0cHV0SWQpOwp9CgovLyBUaGlzIGlzIHJvdWdobHkgYW4gYXN5bmMgZ2VuZXJhdG9yIChub3Qgc3VwcG9ydGVkIGluIHRoZSBicm93c2VyIHlldCksCi8vIHdoZXJlIHRoZXJlIGFyZSBtdWx0aXBsZSBhc3luY2hyb25vdXMgc3RlcHMgYW5kIHRoZSBQeXRob24gc2lkZSBpcyBnb2luZwovLyB0byBwb2xsIGZvciBjb21wbGV0aW9uIG9mIGVhY2ggc3RlcC4KLy8gVGhpcyB1c2VzIGEgUHJvbWlzZSB0byBibG9jayB0aGUgcHl0aG9uIHNpZGUgb24gY29tcGxldGlvbiBvZiBlYWNoIHN0ZXAsCi8vIHRoZW4gcGFzc2VzIHRoZSByZXN1bHQgb2YgdGhlIHByZXZpb3VzIHN0ZXAgYXMgdGhlIGlucHV0IHRvIHRoZSBuZXh0IHN0ZXAuCmZ1bmN0aW9uIF91cGxvYWRGaWxlc0NvbnRpbnVlKG91dHB1dElkKSB7CiAgY29uc3Qgb3V0cHV0RWxlbWVudCA9IGRvY3VtZW50LmdldEVsZW1lbnRCeUlkKG91dHB1dElkKTsKICBjb25zdCBzdGVwcyA9IG91dHB1dEVsZW1lbnQuc3RlcHM7CgogIGNvbnN0IG5leHQgPSBzdGVwcy5uZXh0KG91dHB1dEVsZW1lbnQubGFzdFByb21pc2VWYWx1ZSk7CiAgcmV0dXJuIFByb21pc2UucmVzb2x2ZShuZXh0LnZhbHVlLnByb21pc2UpLnRoZW4oKHZhbHVlKSA9PiB7CiAgICAvLyBDYWNoZSB0aGUgbGFzdCBwcm9taXNlIHZhbHVlIHRvIG1ha2UgaXQgYXZhaWxhYmxlIHRvIHRoZSBuZXh0CiAgICAvLyBzdGVwIG9mIHRoZSBnZW5lcmF0b3IuCiAgICBvdXRwdXRFbGVtZW50Lmxhc3RQcm9taXNlVmFsdWUgPSB2YWx1ZTsKICAgIHJldHVybiBuZXh0LnZhbHVlLnJlc3BvbnNlOwogIH0pOwp9CgovKioKICogR2VuZXJhdG9yIGZ1bmN0aW9uIHdoaWNoIGlzIGNhbGxlZCBiZXR3ZWVuIGVhY2ggYXN5bmMgc3RlcCBvZiB0aGUgdXBsb2FkCiAqIHByb2Nlc3MuCiAqIEBwYXJhbSB7c3RyaW5nfSBpbnB1dElkIEVsZW1lbnQgSUQgb2YgdGhlIGlucHV0IGZpbGUgcGlja2VyIGVsZW1lbnQuCiAqIEBwYXJhbSB7c3RyaW5nfSBvdXRwdXRJZCBFbGVtZW50IElEIG9mIHRoZSBvdXRwdXQgZGlzcGxheS4KICogQHJldHVybiB7IUl0ZXJhYmxlPCFPYmplY3Q+fSBJdGVyYWJsZSBvZiBuZXh0IHN0ZXBzLgogKi8KZnVuY3Rpb24qIHVwbG9hZEZpbGVzU3RlcChpbnB1dElkLCBvdXRwdXRJZCkgewogIGNvbnN0IGlucHV0RWxlbWVudCA9IGRvY3VtZW50LmdldEVsZW1lbnRCeUlkKGlucHV0SWQpOwogIGlucHV0RWxlbWVudC5kaXNhYmxlZCA9IGZhbHNlOwoKICBjb25zdCBvdXRwdXRFbGVtZW50ID0gZG9jdW1lbnQuZ2V0RWxlbWVudEJ5SWQob3V0cHV0SWQpOwogIG91dHB1dEVsZW1lbnQuaW5uZXJIVE1MID0gJyc7CgogIGNvbnN0IHBpY2tlZFByb21pc2UgPSBuZXcgUHJvbWlzZSgocmVzb2x2ZSkgPT4gewogICAgaW5wdXRFbGVtZW50LmFkZEV2ZW50TGlzdGVuZXIoJ2NoYW5nZScsIChlKSA9PiB7CiAgICAgIHJlc29sdmUoZS50YXJnZXQuZmlsZXMpOwogICAgfSk7CiAgfSk7CgogIGNvbnN0IGNhbmNlbCA9IGRvY3VtZW50LmNyZWF0ZUVsZW1lbnQoJ2J1dHRvbicpOwogIGlucHV0RWxlbWVudC5wYXJlbnRFbGVtZW50LmFwcGVuZENoaWxkKGNhbmNlbCk7CiAgY2FuY2VsLnRleHRDb250ZW50ID0gJ0NhbmNlbCB1cGxvYWQnOwogIGNvbnN0IGNhbmNlbFByb21pc2UgPSBuZXcgUHJvbWlzZSgocmVzb2x2ZSkgPT4gewogICAgY2FuY2VsLm9uY2xpY2sgPSAoKSA9PiB7CiAgICAgIHJlc29sdmUobnVsbCk7CiAgICB9OwogIH0pOwoKICAvLyBXYWl0IGZvciB0aGUgdXNlciB0byBwaWNrIHRoZSBmaWxlcy4KICBjb25zdCBmaWxlcyA9IHlpZWxkIHsKICAgIHByb21pc2U6IFByb21pc2UucmFjZShbcGlja2VkUHJvbWlzZSwgY2FuY2VsUHJvbWlzZV0pLAogICAgcmVzcG9uc2U6IHsKICAgICAgYWN0aW9uOiAnc3RhcnRpbmcnLAogICAgfQogIH07CgogIGNhbmNlbC5yZW1vdmUoKTsKCiAgLy8gRGlzYWJsZSB0aGUgaW5wdXQgZWxlbWVudCBzaW5jZSBmdXJ0aGVyIHBpY2tzIGFyZSBub3QgYWxsb3dlZC4KICBpbnB1dEVsZW1lbnQuZGlzYWJsZWQgPSB0cnVlOwoKICBpZiAoIWZpbGVzKSB7CiAgICByZXR1cm4gewogICAgICByZXNwb25zZTogewogICAgICAgIGFjdGlvbjogJ2NvbXBsZXRlJywKICAgICAgfQogICAgfTsKICB9CgogIGZvciAoY29uc3QgZmlsZSBvZiBmaWxlcykgewogICAgY29uc3QgbGkgPSBkb2N1bWVudC5jcmVhdGVFbGVtZW50KCdsaScpOwogICAgbGkuYXBwZW5kKHNwYW4oZmlsZS5uYW1lLCB7Zm9udFdlaWdodDogJ2JvbGQnfSkpOwogICAgbGkuYXBwZW5kKHNwYW4oCiAgICAgICAgYCgke2ZpbGUudHlwZSB8fCAnbi9hJ30pIC0gJHtmaWxlLnNpemV9IGJ5dGVzLCBgICsKICAgICAgICBgbGFzdCBtb2RpZmllZDogJHsKICAgICAgICAgICAgZmlsZS5sYXN0TW9kaWZpZWREYXRlID8gZmlsZS5sYXN0TW9kaWZpZWREYXRlLnRvTG9jYWxlRGF0ZVN0cmluZygpIDoKICAgICAgICAgICAgICAgICAgICAgICAgICAgICAgICAgICAgJ24vYSd9IC0gYCkpOwogICAgY29uc3QgcGVyY2VudCA9IHNwYW4oJzAlIGRvbmUnKTsKICAgIGxpLmFwcGVuZENoaWxkKHBlcmNlbnQpOwoKICAgIG91dHB1dEVsZW1lbnQuYXBwZW5kQ2hpbGQobGkpOwoKICAgIGNvbnN0IGZpbGVEYXRhUHJvbWlzZSA9IG5ldyBQcm9taXNlKChyZXNvbHZlKSA9PiB7CiAgICAgIGNvbnN0IHJlYWRlciA9IG5ldyBGaWxlUmVhZGVyKCk7CiAgICAgIHJlYWRlci5vbmxvYWQgPSAoZSkgPT4gewogICAgICAgIHJlc29sdmUoZS50YXJnZXQucmVzdWx0KTsKICAgICAgfTsKICAgICAgcmVhZGVyLnJlYWRBc0FycmF5QnVmZmVyKGZpbGUpOwogICAgfSk7CiAgICAvLyBXYWl0IGZvciB0aGUgZGF0YSB0byBiZSByZWFkeS4KICAgIGxldCBmaWxlRGF0YSA9IHlpZWxkIHsKICAgICAgcHJvbWlzZTogZmlsZURhdGFQcm9taXNlLAogICAgICByZXNwb25zZTogewogICAgICAgIGFjdGlvbjogJ2NvbnRpbnVlJywKICAgICAgfQogICAgfTsKCiAgICAvLyBVc2UgYSBjaHVua2VkIHNlbmRpbmcgdG8gYXZvaWQgbWVzc2FnZSBzaXplIGxpbWl0cy4gU2VlIGIvNjIxMTU2NjAuCiAgICBsZXQgcG9zaXRpb24gPSAwOwogICAgZG8gewogICAgICBjb25zdCBsZW5ndGggPSBNYXRoLm1pbihmaWxlRGF0YS5ieXRlTGVuZ3RoIC0gcG9zaXRpb24sIE1BWF9QQVlMT0FEX1NJWkUpOwogICAgICBjb25zdCBjaHVuayA9IG5ldyBVaW50OEFycmF5KGZpbGVEYXRhLCBwb3NpdGlvbiwgbGVuZ3RoKTsKICAgICAgcG9zaXRpb24gKz0gbGVuZ3RoOwoKICAgICAgY29uc3QgYmFzZTY0ID0gYnRvYShTdHJpbmcuZnJvbUNoYXJDb2RlLmFwcGx5KG51bGwsIGNodW5rKSk7CiAgICAgIHlpZWxkIHsKICAgICAgICByZXNwb25zZTogewogICAgICAgICAgYWN0aW9uOiAnYXBwZW5kJywKICAgICAgICAgIGZpbGU6IGZpbGUubmFtZSwKICAgICAgICAgIGRhdGE6IGJhc2U2NCwKICAgICAgICB9LAogICAgICB9OwoKICAgICAgbGV0IHBlcmNlbnREb25lID0gZmlsZURhdGEuYnl0ZUxlbmd0aCA9PT0gMCA/CiAgICAgICAgICAxMDAgOgogICAgICAgICAgTWF0aC5yb3VuZCgocG9zaXRpb24gLyBmaWxlRGF0YS5ieXRlTGVuZ3RoKSAqIDEwMCk7CiAgICAgIHBlcmNlbnQudGV4dENvbnRlbnQgPSBgJHtwZXJjZW50RG9uZX0lIGRvbmVgOwoKICAgIH0gd2hpbGUgKHBvc2l0aW9uIDwgZmlsZURhdGEuYnl0ZUxlbmd0aCk7CiAgfQoKICAvLyBBbGwgZG9uZS4KICB5aWVsZCB7CiAgICByZXNwb25zZTogewogICAgICBhY3Rpb246ICdjb21wbGV0ZScsCiAgICB9CiAgfTsKfQoKc2NvcGUuZ29vZ2xlID0gc2NvcGUuZ29vZ2xlIHx8IHt9OwpzY29wZS5nb29nbGUuY29sYWIgPSBzY29wZS5nb29nbGUuY29sYWIgfHwge307CnNjb3BlLmdvb2dsZS5jb2xhYi5fZmlsZXMgPSB7CiAgX3VwbG9hZEZpbGVzLAogIF91cGxvYWRGaWxlc0NvbnRpbnVlLAp9Owp9KShzZWxmKTsK",
              "ok": true,
              "headers": [
                [
                  "content-type",
                  "application/javascript"
                ]
              ],
              "status": 200,
              "status_text": ""
            }
          },
          "base_uri": "https://localhost:8080/",
          "height": 74
        },
        "id": "X3R1OoTeGTR6",
        "outputId": "feb258c9-8bdf-49c2-db3b-8fabdff86085"
      },
      "source": [
        "from google.colab import files \n",
        "uploaded = files.upload()"
      ],
      "execution_count": null,
      "outputs": [
        {
          "output_type": "display_data",
          "data": {
            "text/html": [
              "\n",
              "     <input type=\"file\" id=\"files-538deb2a-9e2e-4246-bad2-2c14e09b5d1b\" name=\"files[]\" multiple disabled\n",
              "        style=\"border:none\" />\n",
              "     <output id=\"result-538deb2a-9e2e-4246-bad2-2c14e09b5d1b\">\n",
              "      Upload widget is only available when the cell has been executed in the\n",
              "      current browser session. Please rerun this cell to enable.\n",
              "      </output>\n",
              "      <script src=\"/nbextensions/google.colab/files.js\"></script> "
            ],
            "text/plain": [
              "<IPython.core.display.HTML object>"
            ]
          },
          "metadata": {}
        },
        {
          "output_type": "stream",
          "name": "stdout",
          "text": [
            "Saving kc_house_data.csv to kc_house_data.csv\n"
          ]
        }
      ]
    },
    {
      "cell_type": "code",
      "metadata": {
        "id": "5WoZEsyYG_y3"
      },
      "source": [
        "!pip install -U -q PyDrive\n",
        "from pydrive.auth import GoogleAuth\n",
        "from pydrive.drive import GoogleDrive\n",
        "from google.colab import auth\n",
        "from oauth2client.client import GoogleCredentials"
      ],
      "execution_count": null,
      "outputs": []
    },
    {
      "cell_type": "code",
      "metadata": {
        "id": "PdgcCr-LIFCk"
      },
      "source": [
        "auth.authenticate_user()\n",
        "gauth = GoogleAuth()\n",
        "gauth.credentials = GoogleCredentials.get_application_default()\n",
        "drive = GoogleDrive(gauth)"
      ],
      "execution_count": null,
      "outputs": []
    },
    {
      "cell_type": "code",
      "metadata": {
        "id": "iJ_EIHyPIhKe"
      },
      "source": [
        "downloaded = drive.CreateFile({'id':'1ReLe8co6yczrzTbiBQBcDj7JvwukD2q0'}) # replace the id with id of file you want to access\n",
        "downloaded.GetContentFile('kc_house_data.csv')"
      ],
      "execution_count": null,
      "outputs": []
    },
    {
      "cell_type": "code",
      "metadata": {
        "colab": {
          "base_uri": "https://localhost:8080/"
        },
        "id": "4cpUiicNKBTM",
        "outputId": "9fca97d1-09f8-4e76-ce4a-9c04cfb955a7"
      },
      "source": [
        "import pandas as pd\n",
        "housedata_df = pd.read_csv('kc_house_data.csv') \n",
        "print(housedata_df.head(10))"
      ],
      "execution_count": null,
      "outputs": [
        {
          "output_type": "stream",
          "name": "stdout",
          "text": [
            "           id             date      price  ...     long  sqft_living15  sqft_lot15\n",
            "0  7129300520  20141013T000000   221900.0  ... -122.257           1340        5650\n",
            "1  6414100192  20141209T000000   538000.0  ... -122.319           1690        7639\n",
            "2  5631500400  20150225T000000   180000.0  ... -122.233           2720        8062\n",
            "3  2487200875  20141209T000000   604000.0  ... -122.393           1360        5000\n",
            "4  1954400510  20150218T000000   510000.0  ... -122.045           1800        7503\n",
            "5  7237550310  20140512T000000  1225000.0  ... -122.005           4760      101930\n",
            "6  1321400060  20140627T000000   257500.0  ... -122.327           2238        6819\n",
            "7  2008000270  20150115T000000   291850.0  ... -122.315           1650        9711\n",
            "8  2414600126  20150415T000000   229500.0  ... -122.337           1780        8113\n",
            "9  3793500160  20150312T000000   323000.0  ... -122.031           2390        7570\n",
            "\n",
            "[10 rows x 21 columns]\n"
          ]
        }
      ]
    },
    {
      "cell_type": "code",
      "metadata": {
        "id": "jlIonWNbKV7C"
      },
      "source": [
        "pd.set_option('display.max_columns', 7)"
      ],
      "execution_count": null,
      "outputs": []
    },
    {
      "cell_type": "code",
      "metadata": {
        "colab": {
          "base_uri": "https://localhost:8080/",
          "height": 232
        },
        "id": "b85Gm9h0KaIe",
        "outputId": "8b60d8e6-77a0-4dec-a8d5-42875a27b9be"
      },
      "source": [
        "housedata_df.head(5)"
      ],
      "execution_count": null,
      "outputs": [
        {
          "output_type": "execute_result",
          "data": {
            "text/html": [
              "<div>\n",
              "<style scoped>\n",
              "    .dataframe tbody tr th:only-of-type {\n",
              "        vertical-align: middle;\n",
              "    }\n",
              "\n",
              "    .dataframe tbody tr th {\n",
              "        vertical-align: top;\n",
              "    }\n",
              "\n",
              "    .dataframe thead th {\n",
              "        text-align: right;\n",
              "    }\n",
              "</style>\n",
              "<table border=\"1\" class=\"dataframe\">\n",
              "  <thead>\n",
              "    <tr style=\"text-align: right;\">\n",
              "      <th></th>\n",
              "      <th>id</th>\n",
              "      <th>date</th>\n",
              "      <th>price</th>\n",
              "      <th>...</th>\n",
              "      <th>long</th>\n",
              "      <th>sqft_living15</th>\n",
              "      <th>sqft_lot15</th>\n",
              "    </tr>\n",
              "  </thead>\n",
              "  <tbody>\n",
              "    <tr>\n",
              "      <th>0</th>\n",
              "      <td>7129300520</td>\n",
              "      <td>20141013T000000</td>\n",
              "      <td>221900.0</td>\n",
              "      <td>...</td>\n",
              "      <td>-122.257</td>\n",
              "      <td>1340</td>\n",
              "      <td>5650</td>\n",
              "    </tr>\n",
              "    <tr>\n",
              "      <th>1</th>\n",
              "      <td>6414100192</td>\n",
              "      <td>20141209T000000</td>\n",
              "      <td>538000.0</td>\n",
              "      <td>...</td>\n",
              "      <td>-122.319</td>\n",
              "      <td>1690</td>\n",
              "      <td>7639</td>\n",
              "    </tr>\n",
              "    <tr>\n",
              "      <th>2</th>\n",
              "      <td>5631500400</td>\n",
              "      <td>20150225T000000</td>\n",
              "      <td>180000.0</td>\n",
              "      <td>...</td>\n",
              "      <td>-122.233</td>\n",
              "      <td>2720</td>\n",
              "      <td>8062</td>\n",
              "    </tr>\n",
              "    <tr>\n",
              "      <th>3</th>\n",
              "      <td>2487200875</td>\n",
              "      <td>20141209T000000</td>\n",
              "      <td>604000.0</td>\n",
              "      <td>...</td>\n",
              "      <td>-122.393</td>\n",
              "      <td>1360</td>\n",
              "      <td>5000</td>\n",
              "    </tr>\n",
              "    <tr>\n",
              "      <th>4</th>\n",
              "      <td>1954400510</td>\n",
              "      <td>20150218T000000</td>\n",
              "      <td>510000.0</td>\n",
              "      <td>...</td>\n",
              "      <td>-122.045</td>\n",
              "      <td>1800</td>\n",
              "      <td>7503</td>\n",
              "    </tr>\n",
              "  </tbody>\n",
              "</table>\n",
              "<p>5 rows × 21 columns</p>\n",
              "</div>"
            ],
            "text/plain": [
              "           id             date     price  ...     long  sqft_living15  \\\n",
              "0  7129300520  20141013T000000  221900.0  ... -122.257           1340   \n",
              "1  6414100192  20141209T000000  538000.0  ... -122.319           1690   \n",
              "2  5631500400  20150225T000000  180000.0  ... -122.233           2720   \n",
              "3  2487200875  20141209T000000  604000.0  ... -122.393           1360   \n",
              "4  1954400510  20150218T000000  510000.0  ... -122.045           1800   \n",
              "\n",
              "   sqft_lot15  \n",
              "0        5650  \n",
              "1        7639  \n",
              "2        8062  \n",
              "3        5000  \n",
              "4        7503  \n",
              "\n",
              "[5 rows x 21 columns]"
            ]
          },
          "metadata": {},
          "execution_count": 12
        }
      ]
    },
    {
      "cell_type": "code",
      "metadata": {
        "colab": {
          "base_uri": "https://localhost:8080/"
        },
        "id": "GYCQWKclKedG",
        "outputId": "d07ffcb7-eefe-42f2-cf6b-80533d3dc1a6"
      },
      "source": [
        "list(housedata_df.columns)"
      ],
      "execution_count": null,
      "outputs": [
        {
          "output_type": "execute_result",
          "data": {
            "text/plain": [
              "['id',\n",
              " 'date',\n",
              " 'price',\n",
              " 'bedrooms',\n",
              " 'bathrooms',\n",
              " 'sqft_living',\n",
              " 'sqft_lot',\n",
              " 'floors',\n",
              " 'waterfront',\n",
              " 'view',\n",
              " 'condition',\n",
              " 'grade',\n",
              " 'sqft_above',\n",
              " 'sqft_basement',\n",
              " 'yr_built',\n",
              " 'yr_renovated',\n",
              " 'zipcode',\n",
              " 'lat',\n",
              " 'long',\n",
              " 'sqft_living15',\n",
              " 'sqft_lot15']"
            ]
          },
          "metadata": {},
          "execution_count": 13
        }
      ]
    },
    {
      "cell_type": "code",
      "metadata": {
        "colab": {
          "base_uri": "https://localhost:8080/"
        },
        "id": "bhyI6IOsKmB-",
        "outputId": "c389316c-45d4-4288-fc22-6ff0f3e3aa7c"
      },
      "source": [
        "housedata_df.info()"
      ],
      "execution_count": null,
      "outputs": [
        {
          "output_type": "stream",
          "name": "stdout",
          "text": [
            "<class 'pandas.core.frame.DataFrame'>\n",
            "RangeIndex: 21613 entries, 0 to 21612\n",
            "Data columns (total 21 columns):\n",
            " #   Column         Non-Null Count  Dtype  \n",
            "---  ------         --------------  -----  \n",
            " 0   id             21613 non-null  int64  \n",
            " 1   date           21613 non-null  object \n",
            " 2   price          21613 non-null  float64\n",
            " 3   bedrooms       21613 non-null  int64  \n",
            " 4   bathrooms      21613 non-null  float64\n",
            " 5   sqft_living    21613 non-null  int64  \n",
            " 6   sqft_lot       21613 non-null  int64  \n",
            " 7   floors         21613 non-null  float64\n",
            " 8   waterfront     21613 non-null  int64  \n",
            " 9   view           21613 non-null  int64  \n",
            " 10  condition      21613 non-null  int64  \n",
            " 11  grade          21613 non-null  int64  \n",
            " 12  sqft_above     21613 non-null  int64  \n",
            " 13  sqft_basement  21613 non-null  int64  \n",
            " 14  yr_built       21613 non-null  int64  \n",
            " 15  yr_renovated   21613 non-null  int64  \n",
            " 16  zipcode        21613 non-null  int64  \n",
            " 17  lat            21613 non-null  float64\n",
            " 18  long           21613 non-null  float64\n",
            " 19  sqft_living15  21613 non-null  int64  \n",
            " 20  sqft_lot15     21613 non-null  int64  \n",
            "dtypes: float64(5), int64(15), object(1)\n",
            "memory usage: 3.5+ MB\n"
          ]
        }
      ]
    },
    {
      "cell_type": "code",
      "metadata": {
        "colab": {
          "base_uri": "https://localhost:8080/",
          "height": 232
        },
        "id": "LqD7oc7kKtH3",
        "outputId": "81859b46-7ffb-46b9-a431-835f12c070ea"
      },
      "source": [
        "housedata_df[0:5]"
      ],
      "execution_count": null,
      "outputs": [
        {
          "output_type": "execute_result",
          "data": {
            "text/html": [
              "<div>\n",
              "<style scoped>\n",
              "    .dataframe tbody tr th:only-of-type {\n",
              "        vertical-align: middle;\n",
              "    }\n",
              "\n",
              "    .dataframe tbody tr th {\n",
              "        vertical-align: top;\n",
              "    }\n",
              "\n",
              "    .dataframe thead th {\n",
              "        text-align: right;\n",
              "    }\n",
              "</style>\n",
              "<table border=\"1\" class=\"dataframe\">\n",
              "  <thead>\n",
              "    <tr style=\"text-align: right;\">\n",
              "      <th></th>\n",
              "      <th>id</th>\n",
              "      <th>date</th>\n",
              "      <th>price</th>\n",
              "      <th>...</th>\n",
              "      <th>long</th>\n",
              "      <th>sqft_living15</th>\n",
              "      <th>sqft_lot15</th>\n",
              "    </tr>\n",
              "  </thead>\n",
              "  <tbody>\n",
              "    <tr>\n",
              "      <th>0</th>\n",
              "      <td>7129300520</td>\n",
              "      <td>20141013T000000</td>\n",
              "      <td>221900.0</td>\n",
              "      <td>...</td>\n",
              "      <td>-122.257</td>\n",
              "      <td>1340</td>\n",
              "      <td>5650</td>\n",
              "    </tr>\n",
              "    <tr>\n",
              "      <th>1</th>\n",
              "      <td>6414100192</td>\n",
              "      <td>20141209T000000</td>\n",
              "      <td>538000.0</td>\n",
              "      <td>...</td>\n",
              "      <td>-122.319</td>\n",
              "      <td>1690</td>\n",
              "      <td>7639</td>\n",
              "    </tr>\n",
              "    <tr>\n",
              "      <th>2</th>\n",
              "      <td>5631500400</td>\n",
              "      <td>20150225T000000</td>\n",
              "      <td>180000.0</td>\n",
              "      <td>...</td>\n",
              "      <td>-122.233</td>\n",
              "      <td>2720</td>\n",
              "      <td>8062</td>\n",
              "    </tr>\n",
              "    <tr>\n",
              "      <th>3</th>\n",
              "      <td>2487200875</td>\n",
              "      <td>20141209T000000</td>\n",
              "      <td>604000.0</td>\n",
              "      <td>...</td>\n",
              "      <td>-122.393</td>\n",
              "      <td>1360</td>\n",
              "      <td>5000</td>\n",
              "    </tr>\n",
              "    <tr>\n",
              "      <th>4</th>\n",
              "      <td>1954400510</td>\n",
              "      <td>20150218T000000</td>\n",
              "      <td>510000.0</td>\n",
              "      <td>...</td>\n",
              "      <td>-122.045</td>\n",
              "      <td>1800</td>\n",
              "      <td>7503</td>\n",
              "    </tr>\n",
              "  </tbody>\n",
              "</table>\n",
              "<p>5 rows × 21 columns</p>\n",
              "</div>"
            ],
            "text/plain": [
              "           id             date     price  ...     long  sqft_living15  \\\n",
              "0  7129300520  20141013T000000  221900.0  ... -122.257           1340   \n",
              "1  6414100192  20141209T000000  538000.0  ... -122.319           1690   \n",
              "2  5631500400  20150225T000000  180000.0  ... -122.233           2720   \n",
              "3  2487200875  20141209T000000  604000.0  ... -122.393           1360   \n",
              "4  1954400510  20150218T000000  510000.0  ... -122.045           1800   \n",
              "\n",
              "   sqft_lot15  \n",
              "0        5650  \n",
              "1        7639  \n",
              "2        8062  \n",
              "3        5000  \n",
              "4        7503  \n",
              "\n",
              "[5 rows x 21 columns]"
            ]
          },
          "metadata": {},
          "execution_count": 15
        }
      ]
    },
    {
      "cell_type": "code",
      "metadata": {
        "colab": {
          "base_uri": "https://localhost:8080/",
          "height": 232
        },
        "id": "ng9JBajeKzun",
        "outputId": "eb04a1ab-df62-4fbe-8b7a-d39a2f098eba"
      },
      "source": [
        "housedata_df[-5:]"
      ],
      "execution_count": null,
      "outputs": [
        {
          "output_type": "execute_result",
          "data": {
            "text/html": [
              "<div>\n",
              "<style scoped>\n",
              "    .dataframe tbody tr th:only-of-type {\n",
              "        vertical-align: middle;\n",
              "    }\n",
              "\n",
              "    .dataframe tbody tr th {\n",
              "        vertical-align: top;\n",
              "    }\n",
              "\n",
              "    .dataframe thead th {\n",
              "        text-align: right;\n",
              "    }\n",
              "</style>\n",
              "<table border=\"1\" class=\"dataframe\">\n",
              "  <thead>\n",
              "    <tr style=\"text-align: right;\">\n",
              "      <th></th>\n",
              "      <th>id</th>\n",
              "      <th>date</th>\n",
              "      <th>price</th>\n",
              "      <th>...</th>\n",
              "      <th>long</th>\n",
              "      <th>sqft_living15</th>\n",
              "      <th>sqft_lot15</th>\n",
              "    </tr>\n",
              "  </thead>\n",
              "  <tbody>\n",
              "    <tr>\n",
              "      <th>21608</th>\n",
              "      <td>263000018</td>\n",
              "      <td>20140521T000000</td>\n",
              "      <td>360000.0</td>\n",
              "      <td>...</td>\n",
              "      <td>-122.346</td>\n",
              "      <td>1530</td>\n",
              "      <td>1509</td>\n",
              "    </tr>\n",
              "    <tr>\n",
              "      <th>21609</th>\n",
              "      <td>6600060120</td>\n",
              "      <td>20150223T000000</td>\n",
              "      <td>400000.0</td>\n",
              "      <td>...</td>\n",
              "      <td>-122.362</td>\n",
              "      <td>1830</td>\n",
              "      <td>7200</td>\n",
              "    </tr>\n",
              "    <tr>\n",
              "      <th>21610</th>\n",
              "      <td>1523300141</td>\n",
              "      <td>20140623T000000</td>\n",
              "      <td>402101.0</td>\n",
              "      <td>...</td>\n",
              "      <td>-122.299</td>\n",
              "      <td>1020</td>\n",
              "      <td>2007</td>\n",
              "    </tr>\n",
              "    <tr>\n",
              "      <th>21611</th>\n",
              "      <td>291310100</td>\n",
              "      <td>20150116T000000</td>\n",
              "      <td>400000.0</td>\n",
              "      <td>...</td>\n",
              "      <td>-122.069</td>\n",
              "      <td>1410</td>\n",
              "      <td>1287</td>\n",
              "    </tr>\n",
              "    <tr>\n",
              "      <th>21612</th>\n",
              "      <td>1523300157</td>\n",
              "      <td>20141015T000000</td>\n",
              "      <td>325000.0</td>\n",
              "      <td>...</td>\n",
              "      <td>-122.299</td>\n",
              "      <td>1020</td>\n",
              "      <td>1357</td>\n",
              "    </tr>\n",
              "  </tbody>\n",
              "</table>\n",
              "<p>5 rows × 21 columns</p>\n",
              "</div>"
            ],
            "text/plain": [
              "               id             date     price  ...     long  sqft_living15  \\\n",
              "21608   263000018  20140521T000000  360000.0  ... -122.346           1530   \n",
              "21609  6600060120  20150223T000000  400000.0  ... -122.362           1830   \n",
              "21610  1523300141  20140623T000000  402101.0  ... -122.299           1020   \n",
              "21611   291310100  20150116T000000  400000.0  ... -122.069           1410   \n",
              "21612  1523300157  20141015T000000  325000.0  ... -122.299           1020   \n",
              "\n",
              "       sqft_lot15  \n",
              "21608        1509  \n",
              "21609        7200  \n",
              "21610        2007  \n",
              "21611        1287  \n",
              "21612        1357  \n",
              "\n",
              "[5 rows x 21 columns]"
            ]
          },
          "metadata": {},
          "execution_count": 16
        }
      ]
    },
    {
      "cell_type": "code",
      "metadata": {
        "colab": {
          "base_uri": "https://localhost:8080/"
        },
        "id": "iu8GoVKGLBJg",
        "outputId": "c80661e9-8dfc-4901-cd5c-79761509294e"
      },
      "source": [
        "housedata_df['id'][0:5]"
      ],
      "execution_count": null,
      "outputs": [
        {
          "output_type": "execute_result",
          "data": {
            "text/plain": [
              "0    7129300520\n",
              "1    6414100192\n",
              "2    5631500400\n",
              "3    2487200875\n",
              "4    1954400510\n",
              "Name: id, dtype: int64"
            ]
          },
          "metadata": {},
          "execution_count": 18
        }
      ]
    },
    {
      "cell_type": "code",
      "metadata": {
        "colab": {
          "base_uri": "https://localhost:8080/",
          "height": 203
        },
        "id": "P7hBezKoLI2n",
        "outputId": "30dbf015-aeca-4b53-c5a5-a472f1e89c15"
      },
      "source": [
        "housedata_df[['id', 'price']][0:5]"
      ],
      "execution_count": null,
      "outputs": [
        {
          "output_type": "execute_result",
          "data": {
            "text/html": [
              "<div>\n",
              "<style scoped>\n",
              "    .dataframe tbody tr th:only-of-type {\n",
              "        vertical-align: middle;\n",
              "    }\n",
              "\n",
              "    .dataframe tbody tr th {\n",
              "        vertical-align: top;\n",
              "    }\n",
              "\n",
              "    .dataframe thead th {\n",
              "        text-align: right;\n",
              "    }\n",
              "</style>\n",
              "<table border=\"1\" class=\"dataframe\">\n",
              "  <thead>\n",
              "    <tr style=\"text-align: right;\">\n",
              "      <th></th>\n",
              "      <th>id</th>\n",
              "      <th>price</th>\n",
              "    </tr>\n",
              "  </thead>\n",
              "  <tbody>\n",
              "    <tr>\n",
              "      <th>0</th>\n",
              "      <td>7129300520</td>\n",
              "      <td>221900.0</td>\n",
              "    </tr>\n",
              "    <tr>\n",
              "      <th>1</th>\n",
              "      <td>6414100192</td>\n",
              "      <td>538000.0</td>\n",
              "    </tr>\n",
              "    <tr>\n",
              "      <th>2</th>\n",
              "      <td>5631500400</td>\n",
              "      <td>180000.0</td>\n",
              "    </tr>\n",
              "    <tr>\n",
              "      <th>3</th>\n",
              "      <td>2487200875</td>\n",
              "      <td>604000.0</td>\n",
              "    </tr>\n",
              "    <tr>\n",
              "      <th>4</th>\n",
              "      <td>1954400510</td>\n",
              "      <td>510000.0</td>\n",
              "    </tr>\n",
              "  </tbody>\n",
              "</table>\n",
              "</div>"
            ],
            "text/plain": [
              "           id     price\n",
              "0  7129300520  221900.0\n",
              "1  6414100192  538000.0\n",
              "2  5631500400  180000.0\n",
              "3  2487200875  604000.0\n",
              "4  1954400510  510000.0"
            ]
          },
          "metadata": {},
          "execution_count": 19
        }
      ]
    },
    {
      "cell_type": "code",
      "metadata": {
        "colab": {
          "base_uri": "https://localhost:8080/",
          "height": 203
        },
        "id": "38TepAPjLPtW",
        "outputId": "66b9036b-b24e-4619-e5c9-a874ad1987f7"
      },
      "source": [
        "housedata_df.iloc[4:9, 1:4]"
      ],
      "execution_count": null,
      "outputs": [
        {
          "output_type": "execute_result",
          "data": {
            "text/html": [
              "<div>\n",
              "<style scoped>\n",
              "    .dataframe tbody tr th:only-of-type {\n",
              "        vertical-align: middle;\n",
              "    }\n",
              "\n",
              "    .dataframe tbody tr th {\n",
              "        vertical-align: top;\n",
              "    }\n",
              "\n",
              "    .dataframe thead th {\n",
              "        text-align: right;\n",
              "    }\n",
              "</style>\n",
              "<table border=\"1\" class=\"dataframe\">\n",
              "  <thead>\n",
              "    <tr style=\"text-align: right;\">\n",
              "      <th></th>\n",
              "      <th>date</th>\n",
              "      <th>price</th>\n",
              "      <th>bedrooms</th>\n",
              "    </tr>\n",
              "  </thead>\n",
              "  <tbody>\n",
              "    <tr>\n",
              "      <th>4</th>\n",
              "      <td>20150218T000000</td>\n",
              "      <td>510000.0</td>\n",
              "      <td>3</td>\n",
              "    </tr>\n",
              "    <tr>\n",
              "      <th>5</th>\n",
              "      <td>20140512T000000</td>\n",
              "      <td>1225000.0</td>\n",
              "      <td>4</td>\n",
              "    </tr>\n",
              "    <tr>\n",
              "      <th>6</th>\n",
              "      <td>20140627T000000</td>\n",
              "      <td>257500.0</td>\n",
              "      <td>3</td>\n",
              "    </tr>\n",
              "    <tr>\n",
              "      <th>7</th>\n",
              "      <td>20150115T000000</td>\n",
              "      <td>291850.0</td>\n",
              "      <td>3</td>\n",
              "    </tr>\n",
              "    <tr>\n",
              "      <th>8</th>\n",
              "      <td>20150415T000000</td>\n",
              "      <td>229500.0</td>\n",
              "      <td>3</td>\n",
              "    </tr>\n",
              "  </tbody>\n",
              "</table>\n",
              "</div>"
            ],
            "text/plain": [
              "              date      price  bedrooms\n",
              "4  20150218T000000   510000.0         3\n",
              "5  20140512T000000  1225000.0         4\n",
              "6  20140627T000000   257500.0         3\n",
              "7  20150115T000000   291850.0         3\n",
              "8  20150415T000000   229500.0         3"
            ]
          },
          "metadata": {},
          "execution_count": 20
        }
      ]
    },
    {
      "cell_type": "code",
      "metadata": {
        "colab": {
          "base_uri": "https://localhost:8080/",
          "height": 447
        },
        "id": "zrdt_qOULaWh",
        "outputId": "881e61e5-bd48-4adf-f887-17edcd7a79c3"
      },
      "source": [
        "pd.crosstab( housedata_df['price'], housedata_df['bedrooms'] )"
      ],
      "execution_count": null,
      "outputs": [
        {
          "output_type": "execute_result",
          "data": {
            "text/html": [
              "<div>\n",
              "<style scoped>\n",
              "    .dataframe tbody tr th:only-of-type {\n",
              "        vertical-align: middle;\n",
              "    }\n",
              "\n",
              "    .dataframe tbody tr th {\n",
              "        vertical-align: top;\n",
              "    }\n",
              "\n",
              "    .dataframe thead th {\n",
              "        text-align: right;\n",
              "    }\n",
              "</style>\n",
              "<table border=\"1\" class=\"dataframe\">\n",
              "  <thead>\n",
              "    <tr style=\"text-align: right;\">\n",
              "      <th>bedrooms</th>\n",
              "      <th>0</th>\n",
              "      <th>1</th>\n",
              "      <th>2</th>\n",
              "      <th>...</th>\n",
              "      <th>10</th>\n",
              "      <th>11</th>\n",
              "      <th>33</th>\n",
              "    </tr>\n",
              "    <tr>\n",
              "      <th>price</th>\n",
              "      <th></th>\n",
              "      <th></th>\n",
              "      <th></th>\n",
              "      <th></th>\n",
              "      <th></th>\n",
              "      <th></th>\n",
              "      <th></th>\n",
              "    </tr>\n",
              "  </thead>\n",
              "  <tbody>\n",
              "    <tr>\n",
              "      <th>75000.0</th>\n",
              "      <td>0</td>\n",
              "      <td>1</td>\n",
              "      <td>0</td>\n",
              "      <td>...</td>\n",
              "      <td>0</td>\n",
              "      <td>0</td>\n",
              "      <td>0</td>\n",
              "    </tr>\n",
              "    <tr>\n",
              "      <th>78000.0</th>\n",
              "      <td>0</td>\n",
              "      <td>0</td>\n",
              "      <td>1</td>\n",
              "      <td>...</td>\n",
              "      <td>0</td>\n",
              "      <td>0</td>\n",
              "      <td>0</td>\n",
              "    </tr>\n",
              "    <tr>\n",
              "      <th>80000.0</th>\n",
              "      <td>0</td>\n",
              "      <td>1</td>\n",
              "      <td>0</td>\n",
              "      <td>...</td>\n",
              "      <td>0</td>\n",
              "      <td>0</td>\n",
              "      <td>0</td>\n",
              "    </tr>\n",
              "    <tr>\n",
              "      <th>81000.0</th>\n",
              "      <td>0</td>\n",
              "      <td>0</td>\n",
              "      <td>1</td>\n",
              "      <td>...</td>\n",
              "      <td>0</td>\n",
              "      <td>0</td>\n",
              "      <td>0</td>\n",
              "    </tr>\n",
              "    <tr>\n",
              "      <th>82000.0</th>\n",
              "      <td>0</td>\n",
              "      <td>0</td>\n",
              "      <td>0</td>\n",
              "      <td>...</td>\n",
              "      <td>0</td>\n",
              "      <td>0</td>\n",
              "      <td>0</td>\n",
              "    </tr>\n",
              "    <tr>\n",
              "      <th>...</th>\n",
              "      <td>...</td>\n",
              "      <td>...</td>\n",
              "      <td>...</td>\n",
              "      <td>...</td>\n",
              "      <td>...</td>\n",
              "      <td>...</td>\n",
              "      <td>...</td>\n",
              "    </tr>\n",
              "    <tr>\n",
              "      <th>5350000.0</th>\n",
              "      <td>0</td>\n",
              "      <td>0</td>\n",
              "      <td>0</td>\n",
              "      <td>...</td>\n",
              "      <td>0</td>\n",
              "      <td>0</td>\n",
              "      <td>0</td>\n",
              "    </tr>\n",
              "    <tr>\n",
              "      <th>5570000.0</th>\n",
              "      <td>0</td>\n",
              "      <td>0</td>\n",
              "      <td>0</td>\n",
              "      <td>...</td>\n",
              "      <td>0</td>\n",
              "      <td>0</td>\n",
              "      <td>0</td>\n",
              "    </tr>\n",
              "    <tr>\n",
              "      <th>6885000.0</th>\n",
              "      <td>0</td>\n",
              "      <td>0</td>\n",
              "      <td>0</td>\n",
              "      <td>...</td>\n",
              "      <td>0</td>\n",
              "      <td>0</td>\n",
              "      <td>0</td>\n",
              "    </tr>\n",
              "    <tr>\n",
              "      <th>7062500.0</th>\n",
              "      <td>0</td>\n",
              "      <td>0</td>\n",
              "      <td>0</td>\n",
              "      <td>...</td>\n",
              "      <td>0</td>\n",
              "      <td>0</td>\n",
              "      <td>0</td>\n",
              "    </tr>\n",
              "    <tr>\n",
              "      <th>7700000.0</th>\n",
              "      <td>0</td>\n",
              "      <td>0</td>\n",
              "      <td>0</td>\n",
              "      <td>...</td>\n",
              "      <td>0</td>\n",
              "      <td>0</td>\n",
              "      <td>0</td>\n",
              "    </tr>\n",
              "  </tbody>\n",
              "</table>\n",
              "<p>4028 rows × 13 columns</p>\n",
              "</div>"
            ],
            "text/plain": [
              "bedrooms   0   1   2   ...  10  11  33\n",
              "price                  ...            \n",
              "75000.0     0   1   0  ...   0   0   0\n",
              "78000.0     0   0   1  ...   0   0   0\n",
              "80000.0     0   1   0  ...   0   0   0\n",
              "81000.0     0   0   1  ...   0   0   0\n",
              "82000.0     0   0   0  ...   0   0   0\n",
              "...        ..  ..  ..  ...  ..  ..  ..\n",
              "5350000.0   0   0   0  ...   0   0   0\n",
              "5570000.0   0   0   0  ...   0   0   0\n",
              "6885000.0   0   0   0  ...   0   0   0\n",
              "7062500.0   0   0   0  ...   0   0   0\n",
              "7700000.0   0   0   0  ...   0   0   0\n",
              "\n",
              "[4028 rows x 13 columns]"
            ]
          },
          "metadata": {},
          "execution_count": 21
        }
      ]
    },
    {
      "cell_type": "code",
      "metadata": {
        "colab": {
          "base_uri": "https://localhost:8080/",
          "height": 203
        },
        "id": "y6jVqJsHL9l-",
        "outputId": "738b7a02-30aa-4402-cb40-c03fbd9f90e8"
      },
      "source": [
        "housedata_df['pricepersqft'] = housedata_df['price'] / housedata_df['sqft_lot']\n",
        "housedata_df[['id', 'price', 'bedrooms', 'pricepersqft']][0:5]"
      ],
      "execution_count": null,
      "outputs": [
        {
          "output_type": "execute_result",
          "data": {
            "text/html": [
              "<div>\n",
              "<style scoped>\n",
              "    .dataframe tbody tr th:only-of-type {\n",
              "        vertical-align: middle;\n",
              "    }\n",
              "\n",
              "    .dataframe tbody tr th {\n",
              "        vertical-align: top;\n",
              "    }\n",
              "\n",
              "    .dataframe thead th {\n",
              "        text-align: right;\n",
              "    }\n",
              "</style>\n",
              "<table border=\"1\" class=\"dataframe\">\n",
              "  <thead>\n",
              "    <tr style=\"text-align: right;\">\n",
              "      <th></th>\n",
              "      <th>id</th>\n",
              "      <th>price</th>\n",
              "      <th>bedrooms</th>\n",
              "      <th>pricepersqft</th>\n",
              "    </tr>\n",
              "  </thead>\n",
              "  <tbody>\n",
              "    <tr>\n",
              "      <th>0</th>\n",
              "      <td>7129300520</td>\n",
              "      <td>221900.0</td>\n",
              "      <td>3</td>\n",
              "      <td>39.274336</td>\n",
              "    </tr>\n",
              "    <tr>\n",
              "      <th>1</th>\n",
              "      <td>6414100192</td>\n",
              "      <td>538000.0</td>\n",
              "      <td>3</td>\n",
              "      <td>74.288870</td>\n",
              "    </tr>\n",
              "    <tr>\n",
              "      <th>2</th>\n",
              "      <td>5631500400</td>\n",
              "      <td>180000.0</td>\n",
              "      <td>2</td>\n",
              "      <td>18.000000</td>\n",
              "    </tr>\n",
              "    <tr>\n",
              "      <th>3</th>\n",
              "      <td>2487200875</td>\n",
              "      <td>604000.0</td>\n",
              "      <td>4</td>\n",
              "      <td>120.800000</td>\n",
              "    </tr>\n",
              "    <tr>\n",
              "      <th>4</th>\n",
              "      <td>1954400510</td>\n",
              "      <td>510000.0</td>\n",
              "      <td>3</td>\n",
              "      <td>63.118812</td>\n",
              "    </tr>\n",
              "  </tbody>\n",
              "</table>\n",
              "</div>"
            ],
            "text/plain": [
              "           id     price  bedrooms  pricepersqft\n",
              "0  7129300520  221900.0         3     39.274336\n",
              "1  6414100192  538000.0         3     74.288870\n",
              "2  5631500400  180000.0         2     18.000000\n",
              "3  2487200875  604000.0         4    120.800000\n",
              "4  1954400510  510000.0         3     63.118812"
            ]
          },
          "metadata": {},
          "execution_count": 22
        }
      ]
    },
    {
      "cell_type": "code",
      "metadata": {
        "id": "BDp_x8GuMn-M"
      },
      "source": [
        "import matplotlib.pyplot as plt\n",
        "import numpy as np\n",
        "import seaborn as sn\n",
        "%matplotlib inline"
      ],
      "execution_count": null,
      "outputs": []
    },
    {
      "cell_type": "code",
      "metadata": {
        "id": "tDqJ4s9JMs3o"
      },
      "source": [
        "import warnings\n",
        "warnings.filterwarnings('ignore')"
      ],
      "execution_count": null,
      "outputs": []
    },
    {
      "cell_type": "code",
      "metadata": {
        "colab": {
          "base_uri": "https://localhost:8080/",
          "height": 296
        },
        "id": "Oq0oRyeBMwfw",
        "outputId": "51c8e689-32b2-450a-85e4-b8bfe359512a"
      },
      "source": [
        "plt.bar(housedata_df['price'],housedata_df['floors'])"
      ],
      "execution_count": null,
      "outputs": [
        {
          "output_type": "execute_result",
          "data": {
            "text/plain": [
              "<BarContainer object of 21613 artists>"
            ]
          },
          "metadata": {},
          "execution_count": 25
        },
        {
          "output_type": "display_data",
          "data": {
            "image/png": "[encoded data removed]",
            "text/plain": [
              "<Figure size 432x288 with 1 Axes>"
            ]
          },
          "metadata": {
            "needs_background": "light"
          }
        }
      ]
    },
    {
      "cell_type": "code",
      "metadata": {
        "colab": {
          "base_uri": "https://localhost:8080/",
          "height": 278
        },
        "id": "3c7f5-qlNKfS",
        "outputId": "807804ef-ad2d-4413-a173-15d518fac3bd"
      },
      "source": [
        "plt.hist( housedata_df['price'] );"
      ],
      "execution_count": null,
      "outputs": [
        {
          "output_type": "display_data",
          "data": {
            "image/png": "[encoded data removed]",
            "text/plain": [
              "<Figure size 432x288 with 1 Axes>"
            ]
          },
          "metadata": {
            "needs_background": "light"
          }
        }
      ]
    },
    {
      "cell_type": "code",
      "metadata": {
        "colab": {
          "base_uri": "https://localhost:8080/",
          "height": 279
        },
        "id": "9zCYPS8aNVaf",
        "outputId": "fa851da8-9362-4c63-8fed-dedb6253814b"
      },
      "source": [
        "box = sn.boxplot(housedata_df['price']);"
      ],
      "execution_count": null,
      "outputs": [
        {
          "output_type": "display_data",
          "data": {
            "image/png": "[encoded data removed]",
            "text/plain": [
              "<Figure size 432x288 with 1 Axes>"
            ]
          },
          "metadata": {
            "needs_background": "light"
          }
        }
      ]
    },
    {
      "cell_type": "code",
      "metadata": {
        "id": "J9X7A3h5NmC2"
      },
      "source": [
        "influential_features = ['price', 'floors', 'condition', 'grade']"
      ],
      "execution_count": null,
      "outputs": []
    },
    {
      "cell_type": "code",
      "metadata": {
        "colab": {
          "base_uri": "https://localhost:8080/",
          "height": 172
        },
        "id": "_7ehp7r4NzSe",
        "outputId": "f18a2860-44a6-421a-f64f-014e7a18707a"
      },
      "source": [
        "housedata_df[influential_features].corr()"
      ],
      "execution_count": null,
      "outputs": [
        {
          "output_type": "execute_result",
          "data": {
            "text/html": [
              "<div>\n",
              "<style scoped>\n",
              "    .dataframe tbody tr th:only-of-type {\n",
              "        vertical-align: middle;\n",
              "    }\n",
              "\n",
              "    .dataframe tbody tr th {\n",
              "        vertical-align: top;\n",
              "    }\n",
              "\n",
              "    .dataframe thead th {\n",
              "        text-align: right;\n",
              "    }\n",
              "</style>\n",
              "<table border=\"1\" class=\"dataframe\">\n",
              "  <thead>\n",
              "    <tr style=\"text-align: right;\">\n",
              "      <th></th>\n",
              "      <th>price</th>\n",
              "      <th>floors</th>\n",
              "      <th>condition</th>\n",
              "      <th>grade</th>\n",
              "    </tr>\n",
              "  </thead>\n",
              "  <tbody>\n",
              "    <tr>\n",
              "      <th>price</th>\n",
              "      <td>1.000000</td>\n",
              "      <td>0.256794</td>\n",
              "      <td>0.036362</td>\n",
              "      <td>0.667434</td>\n",
              "    </tr>\n",
              "    <tr>\n",
              "      <th>floors</th>\n",
              "      <td>0.256794</td>\n",
              "      <td>1.000000</td>\n",
              "      <td>-0.263768</td>\n",
              "      <td>0.458183</td>\n",
              "    </tr>\n",
              "    <tr>\n",
              "      <th>condition</th>\n",
              "      <td>0.036362</td>\n",
              "      <td>-0.263768</td>\n",
              "      <td>1.000000</td>\n",
              "      <td>-0.144674</td>\n",
              "    </tr>\n",
              "    <tr>\n",
              "      <th>grade</th>\n",
              "      <td>0.667434</td>\n",
              "      <td>0.458183</td>\n",
              "      <td>-0.144674</td>\n",
              "      <td>1.000000</td>\n",
              "    </tr>\n",
              "  </tbody>\n",
              "</table>\n",
              "</div>"
            ],
            "text/plain": [
              "              price    floors  condition     grade\n",
              "price      1.000000  0.256794   0.036362  0.667434\n",
              "floors     0.256794  1.000000  -0.263768  0.458183\n",
              "condition  0.036362 -0.263768   1.000000 -0.144674\n",
              "grade      0.667434  0.458183  -0.144674  1.000000"
            ]
          },
          "metadata": {},
          "execution_count": 29
        }
      ]
    },
    {
      "cell_type": "code",
      "metadata": {
        "colab": {
          "base_uri": "https://localhost:8080/",
          "height": 269
        },
        "id": "PvuVHIFrN2pH",
        "outputId": "6f5b8b7a-9d6d-4f16-930d-9c02a4f34c03"
      },
      "source": [
        "sn.heatmap(housedata_df[influential_features].corr(), annot=True);"
      ],
      "execution_count": null,
      "outputs": [
        {
          "output_type": "display_data",
          "data": {
            "image/png": "[encoded data removed]",
            "text/plain": [
              "<Figure size 432x288 with 2 Axes>"
            ]
          },
          "metadata": {
            "needs_background": "light"
          }
        }
      ]
    },
    {
      "cell_type": "code",
      "metadata": {
        "id": "A4coloh9N7iZ"
      },
      "source": [
        "import statsmodels.api as sm"
      ],
      "execution_count": null,
      "outputs": []
    },
    {
      "cell_type": "code",
      "metadata": {
        "id": "Bywr0wGPN-TX"
      },
      "source": [
        "from sklearn.model_selection import train_test_split"
      ],
      "execution_count": null,
      "outputs": []
    },
    {
      "cell_type": "code",
      "metadata": {
        "id": "Cd4TXATfOBHo"
      },
      "source": [
        "X_features = housedata_df.columns"
      ],
      "execution_count": null,
      "outputs": []
    },
    {
      "cell_type": "code",
      "metadata": {
        "id": "R5ZhMqH8OJ-v"
      },
      "source": [
        "X_features = ['id', 'date', 'price',\n",
        "'bedrooms', 'bathrooms', 'floors', 'grade']"
      ],
      "execution_count": null,
      "outputs": []
    },
    {
      "cell_type": "code",
      "metadata": {
        "colab": {
          "base_uri": "https://localhost:8080/"
        },
        "id": "rTtp9huwO3cm",
        "outputId": "c9a46ac0-3dba-4a3a-facd-1f07e6214748"
      },
      "source": [
        "max_thresold = housedata_df['price'].quantile(0.95)\n",
        "max_thresold"
      ],
      "execution_count": null,
      "outputs": [
        {
          "output_type": "execute_result",
          "data": {
            "text/plain": [
              "1156479.9999999974"
            ]
          },
          "metadata": {},
          "execution_count": 36
        }
      ]
    },
    {
      "cell_type": "code",
      "metadata": {
        "colab": {
          "base_uri": "https://localhost:8080/",
          "height": 417
        },
        "id": "j6-FHIfSPGh1",
        "outputId": "e88e36cb-6a08-47b5-8606-350270838de7"
      },
      "source": [
        "housedata_df[housedata_df['price']>max_thresold]"
      ],
      "execution_count": null,
      "outputs": [
        {
          "output_type": "execute_result",
          "data": {
            "text/html": [
              "<div>\n",
              "<style scoped>\n",
              "    .dataframe tbody tr th:only-of-type {\n",
              "        vertical-align: middle;\n",
              "    }\n",
              "\n",
              "    .dataframe tbody tr th {\n",
              "        vertical-align: top;\n",
              "    }\n",
              "\n",
              "    .dataframe thead th {\n",
              "        text-align: right;\n",
              "    }\n",
              "</style>\n",
              "<table border=\"1\" class=\"dataframe\">\n",
              "  <thead>\n",
              "    <tr style=\"text-align: right;\">\n",
              "      <th></th>\n",
              "      <th>id</th>\n",
              "      <th>date</th>\n",
              "      <th>price</th>\n",
              "      <th>...</th>\n",
              "      <th>sqft_living15</th>\n",
              "      <th>sqft_lot15</th>\n",
              "      <th>pricepersqft</th>\n",
              "    </tr>\n",
              "  </thead>\n",
              "  <tbody>\n",
              "    <tr>\n",
              "      <th>5</th>\n",
              "      <td>7237550310</td>\n",
              "      <td>20140512T000000</td>\n",
              "      <td>1225000.0</td>\n",
              "      <td>...</td>\n",
              "      <td>4760</td>\n",
              "      <td>101930</td>\n",
              "      <td>12.018052</td>\n",
              "    </tr>\n",
              "    <tr>\n",
              "      <th>21</th>\n",
              "      <td>2524049179</td>\n",
              "      <td>20140826T000000</td>\n",
              "      <td>2000000.0</td>\n",
              "      <td>...</td>\n",
              "      <td>4110</td>\n",
              "      <td>20336</td>\n",
              "      <td>44.576192</td>\n",
              "    </tr>\n",
              "    <tr>\n",
              "      <th>49</th>\n",
              "      <td>822039084</td>\n",
              "      <td>20150311T000000</td>\n",
              "      <td>1350000.0</td>\n",
              "      <td>...</td>\n",
              "      <td>2680</td>\n",
              "      <td>72513</td>\n",
              "      <td>20.767633</td>\n",
              "    </tr>\n",
              "    <tr>\n",
              "      <th>69</th>\n",
              "      <td>1802000060</td>\n",
              "      <td>20140612T000000</td>\n",
              "      <td>1325000.0</td>\n",
              "      <td>...</td>\n",
              "      <td>3390</td>\n",
              "      <td>20158</td>\n",
              "      <td>65.730727</td>\n",
              "    </tr>\n",
              "    <tr>\n",
              "      <th>125</th>\n",
              "      <td>4389200955</td>\n",
              "      <td>20150302T000000</td>\n",
              "      <td>1450000.0</td>\n",
              "      <td>...</td>\n",
              "      <td>3060</td>\n",
              "      <td>11275</td>\n",
              "      <td>81.511046</td>\n",
              "    </tr>\n",
              "    <tr>\n",
              "      <th>...</th>\n",
              "      <td>...</td>\n",
              "      <td>...</td>\n",
              "      <td>...</td>\n",
              "      <td>...</td>\n",
              "      <td>...</td>\n",
              "      <td>...</td>\n",
              "      <td>...</td>\n",
              "    </tr>\n",
              "    <tr>\n",
              "      <th>21568</th>\n",
              "      <td>524059330</td>\n",
              "      <td>20150130T000000</td>\n",
              "      <td>1700000.0</td>\n",
              "      <td>...</td>\n",
              "      <td>2190</td>\n",
              "      <td>10777</td>\n",
              "      <td>189.668638</td>\n",
              "    </tr>\n",
              "    <tr>\n",
              "      <th>21576</th>\n",
              "      <td>9253900271</td>\n",
              "      <td>20150107T000000</td>\n",
              "      <td>3567000.0</td>\n",
              "      <td>...</td>\n",
              "      <td>3470</td>\n",
              "      <td>18270</td>\n",
              "      <td>337.018141</td>\n",
              "    </tr>\n",
              "    <tr>\n",
              "      <th>21590</th>\n",
              "      <td>7430200100</td>\n",
              "      <td>20140514T000000</td>\n",
              "      <td>1222500.0</td>\n",
              "      <td>...</td>\n",
              "      <td>4560</td>\n",
              "      <td>11063</td>\n",
              "      <td>129.447268</td>\n",
              "    </tr>\n",
              "    <tr>\n",
              "      <th>21597</th>\n",
              "      <td>191100405</td>\n",
              "      <td>20150421T000000</td>\n",
              "      <td>1575000.0</td>\n",
              "      <td>...</td>\n",
              "      <td>2290</td>\n",
              "      <td>10125</td>\n",
              "      <td>155.555556</td>\n",
              "    </tr>\n",
              "    <tr>\n",
              "      <th>21600</th>\n",
              "      <td>249000205</td>\n",
              "      <td>20141015T000000</td>\n",
              "      <td>1537000.0</td>\n",
              "      <td>...</td>\n",
              "      <td>2780</td>\n",
              "      <td>8964</td>\n",
              "      <td>190.034619</td>\n",
              "    </tr>\n",
              "  </tbody>\n",
              "</table>\n",
              "<p>1081 rows × 22 columns</p>\n",
              "</div>"
            ],
            "text/plain": [
              "               id             date      price  ...  sqft_living15  sqft_lot15  \\\n",
              "5      7237550310  20140512T000000  1225000.0  ...           4760      101930   \n",
              "21     2524049179  20140826T000000  2000000.0  ...           4110       20336   \n",
              "49      822039084  20150311T000000  1350000.0  ...           2680       72513   \n",
              "69     1802000060  20140612T000000  1325000.0  ...           3390       20158   \n",
              "125    4389200955  20150302T000000  1450000.0  ...           3060       11275   \n",
              "...           ...              ...        ...  ...            ...         ...   \n",
              "21568   524059330  20150130T000000  1700000.0  ...           2190       10777   \n",
              "21576  9253900271  20150107T000000  3567000.0  ...           3470       18270   \n",
              "21590  7430200100  20140514T000000  1222500.0  ...           4560       11063   \n",
              "21597   191100405  20150421T000000  1575000.0  ...           2290       10125   \n",
              "21600   249000205  20141015T000000  1537000.0  ...           2780        8964   \n",
              "\n",
              "       pricepersqft  \n",
              "5         12.018052  \n",
              "21        44.576192  \n",
              "49        20.767633  \n",
              "69        65.730727  \n",
              "125       81.511046  \n",
              "...             ...  \n",
              "21568    189.668638  \n",
              "21576    337.018141  \n",
              "21590    129.447268  \n",
              "21597    155.555556  \n",
              "21600    190.034619  \n",
              "\n",
              "[1081 rows x 22 columns]"
            ]
          },
          "metadata": {},
          "execution_count": 38
        }
      ]
    },
    {
      "cell_type": "code",
      "metadata": {
        "colab": {
          "base_uri": "https://localhost:8080/"
        },
        "id": "CRuS0M5SPQwV",
        "outputId": "dae2f5b5-f8dd-47a6-e47a-00f24e102af8"
      },
      "source": [
        "min_thresold = housedata_df['price'].quantile(0.05)\n",
        "min_thresold"
      ],
      "execution_count": null,
      "outputs": [
        {
          "output_type": "execute_result",
          "data": {
            "text/plain": [
              "210000.0"
            ]
          },
          "metadata": {},
          "execution_count": 41
        }
      ]
    },
    {
      "cell_type": "code",
      "metadata": {
        "colab": {
          "base_uri": "https://localhost:8080/",
          "height": 417
        },
        "id": "ZrbnJ3-0Pfw2",
        "outputId": "452b21be-fd3c-4a14-8988-2c7065b58886"
      },
      "source": [
        "housedata_df[housedata_df['price']<min_thresold]"
      ],
      "execution_count": null,
      "outputs": [
        {
          "output_type": "execute_result",
          "data": {
            "text/html": [
              "<div>\n",
              "<style scoped>\n",
              "    .dataframe tbody tr th:only-of-type {\n",
              "        vertical-align: middle;\n",
              "    }\n",
              "\n",
              "    .dataframe tbody tr th {\n",
              "        vertical-align: top;\n",
              "    }\n",
              "\n",
              "    .dataframe thead th {\n",
              "        text-align: right;\n",
              "    }\n",
              "</style>\n",
              "<table border=\"1\" class=\"dataframe\">\n",
              "  <thead>\n",
              "    <tr style=\"text-align: right;\">\n",
              "      <th></th>\n",
              "      <th>id</th>\n",
              "      <th>date</th>\n",
              "      <th>price</th>\n",
              "      <th>...</th>\n",
              "      <th>sqft_living15</th>\n",
              "      <th>sqft_lot15</th>\n",
              "      <th>pricepersqft</th>\n",
              "    </tr>\n",
              "  </thead>\n",
              "  <tbody>\n",
              "    <tr>\n",
              "      <th>2</th>\n",
              "      <td>5631500400</td>\n",
              "      <td>20150225T000000</td>\n",
              "      <td>180000.0</td>\n",
              "      <td>...</td>\n",
              "      <td>2720</td>\n",
              "      <td>8062</td>\n",
              "      <td>18.000000</td>\n",
              "    </tr>\n",
              "    <tr>\n",
              "      <th>18</th>\n",
              "      <td>16000397</td>\n",
              "      <td>20141205T000000</td>\n",
              "      <td>189000.0</td>\n",
              "      <td>...</td>\n",
              "      <td>1060</td>\n",
              "      <td>5095</td>\n",
              "      <td>19.187817</td>\n",
              "    </tr>\n",
              "    <tr>\n",
              "      <th>68</th>\n",
              "      <td>1274500060</td>\n",
              "      <td>20140825T000000</td>\n",
              "      <td>204000.0</td>\n",
              "      <td>...</td>\n",
              "      <td>1010</td>\n",
              "      <td>12635</td>\n",
              "      <td>16.901408</td>\n",
              "    </tr>\n",
              "    <tr>\n",
              "      <th>92</th>\n",
              "      <td>4168000060</td>\n",
              "      <td>20150226T000000</td>\n",
              "      <td>153000.0</td>\n",
              "      <td>...</td>\n",
              "      <td>1350</td>\n",
              "      <td>10500</td>\n",
              "      <td>14.571429</td>\n",
              "    </tr>\n",
              "    <tr>\n",
              "      <th>97</th>\n",
              "      <td>1099611230</td>\n",
              "      <td>20140912T000000</td>\n",
              "      <td>199000.0</td>\n",
              "      <td>...</td>\n",
              "      <td>1160</td>\n",
              "      <td>6400</td>\n",
              "      <td>31.093750</td>\n",
              "    </tr>\n",
              "    <tr>\n",
              "      <th>...</th>\n",
              "      <td>...</td>\n",
              "      <td>...</td>\n",
              "      <td>...</td>\n",
              "      <td>...</td>\n",
              "      <td>...</td>\n",
              "      <td>...</td>\n",
              "      <td>...</td>\n",
              "    </tr>\n",
              "    <tr>\n",
              "      <th>20807</th>\n",
              "      <td>6056100160</td>\n",
              "      <td>20140728T000000</td>\n",
              "      <td>182568.0</td>\n",
              "      <td>...</td>\n",
              "      <td>1490</td>\n",
              "      <td>2175</td>\n",
              "      <td>86.689459</td>\n",
              "    </tr>\n",
              "    <tr>\n",
              "      <th>20819</th>\n",
              "      <td>3336500140</td>\n",
              "      <td>20140919T000000</td>\n",
              "      <td>208800.0</td>\n",
              "      <td>...</td>\n",
              "      <td>1390</td>\n",
              "      <td>2450</td>\n",
              "      <td>85.224490</td>\n",
              "    </tr>\n",
              "    <tr>\n",
              "      <th>20962</th>\n",
              "      <td>1278000210</td>\n",
              "      <td>20150311T000000</td>\n",
              "      <td>110000.0</td>\n",
              "      <td>...</td>\n",
              "      <td>828</td>\n",
              "      <td>5402</td>\n",
              "      <td>24.314766</td>\n",
              "    </tr>\n",
              "    <tr>\n",
              "      <th>20969</th>\n",
              "      <td>2781270530</td>\n",
              "      <td>20150326T000000</td>\n",
              "      <td>193000.0</td>\n",
              "      <td>...</td>\n",
              "      <td>1310</td>\n",
              "      <td>2550</td>\n",
              "      <td>75.686275</td>\n",
              "    </tr>\n",
              "    <tr>\n",
              "      <th>21293</th>\n",
              "      <td>8862500280</td>\n",
              "      <td>20141230T000000</td>\n",
              "      <td>208400.0</td>\n",
              "      <td>...</td>\n",
              "      <td>1570</td>\n",
              "      <td>1300</td>\n",
              "      <td>164.353312</td>\n",
              "    </tr>\n",
              "  </tbody>\n",
              "</table>\n",
              "<p>1021 rows × 22 columns</p>\n",
              "</div>"
            ],
            "text/plain": [
              "               id             date     price  ...  sqft_living15  sqft_lot15  \\\n",
              "2      5631500400  20150225T000000  180000.0  ...           2720        8062   \n",
              "18       16000397  20141205T000000  189000.0  ...           1060        5095   \n",
              "68     1274500060  20140825T000000  204000.0  ...           1010       12635   \n",
              "92     4168000060  20150226T000000  153000.0  ...           1350       10500   \n",
              "97     1099611230  20140912T000000  199000.0  ...           1160        6400   \n",
              "...           ...              ...       ...  ...            ...         ...   \n",
              "20807  6056100160  20140728T000000  182568.0  ...           1490        2175   \n",
              "20819  3336500140  20140919T000000  208800.0  ...           1390        2450   \n",
              "20962  1278000210  20150311T000000  110000.0  ...            828        5402   \n",
              "20969  2781270530  20150326T000000  193000.0  ...           1310        2550   \n",
              "21293  8862500280  20141230T000000  208400.0  ...           1570        1300   \n",
              "\n",
              "       pricepersqft  \n",
              "2         18.000000  \n",
              "18        19.187817  \n",
              "68        16.901408  \n",
              "92        14.571429  \n",
              "97        31.093750  \n",
              "...             ...  \n",
              "20807     86.689459  \n",
              "20819     85.224490  \n",
              "20962     24.314766  \n",
              "20969     75.686275  \n",
              "21293    164.353312  \n",
              "\n",
              "[1021 rows x 22 columns]"
            ]
          },
          "metadata": {},
          "execution_count": 43
        }
      ]
    },
    {
      "cell_type": "code",
      "metadata": {
        "colab": {
          "base_uri": "https://localhost:8080/",
          "height": 417
        },
        "id": "UdS_E9uGPp-s",
        "outputId": "a219b4c6-ccf4-48d0-e263-e8c2e4662f52"
      },
      "source": [
        "housedata_df[(housedata_df['price']<max_thresold) & (housedata_df['price']>min_thresold)]"
      ],
      "execution_count": null,
      "outputs": [
        {
          "output_type": "execute_result",
          "data": {
            "text/html": [
              "<div>\n",
              "<style scoped>\n",
              "    .dataframe tbody tr th:only-of-type {\n",
              "        vertical-align: middle;\n",
              "    }\n",
              "\n",
              "    .dataframe tbody tr th {\n",
              "        vertical-align: top;\n",
              "    }\n",
              "\n",
              "    .dataframe thead th {\n",
              "        text-align: right;\n",
              "    }\n",
              "</style>\n",
              "<table border=\"1\" class=\"dataframe\">\n",
              "  <thead>\n",
              "    <tr style=\"text-align: right;\">\n",
              "      <th></th>\n",
              "      <th>id</th>\n",
              "      <th>date</th>\n",
              "      <th>price</th>\n",
              "      <th>...</th>\n",
              "      <th>sqft_living15</th>\n",
              "      <th>sqft_lot15</th>\n",
              "      <th>pricepersqft</th>\n",
              "    </tr>\n",
              "  </thead>\n",
              "  <tbody>\n",
              "    <tr>\n",
              "      <th>0</th>\n",
              "      <td>7129300520</td>\n",
              "      <td>20141013T000000</td>\n",
              "      <td>221900.0</td>\n",
              "      <td>...</td>\n",
              "      <td>1340</td>\n",
              "      <td>5650</td>\n",
              "      <td>39.274336</td>\n",
              "    </tr>\n",
              "    <tr>\n",
              "      <th>1</th>\n",
              "      <td>6414100192</td>\n",
              "      <td>20141209T000000</td>\n",
              "      <td>538000.0</td>\n",
              "      <td>...</td>\n",
              "      <td>1690</td>\n",
              "      <td>7639</td>\n",
              "      <td>74.288870</td>\n",
              "    </tr>\n",
              "    <tr>\n",
              "      <th>3</th>\n",
              "      <td>2487200875</td>\n",
              "      <td>20141209T000000</td>\n",
              "      <td>604000.0</td>\n",
              "      <td>...</td>\n",
              "      <td>1360</td>\n",
              "      <td>5000</td>\n",
              "      <td>120.800000</td>\n",
              "    </tr>\n",
              "    <tr>\n",
              "      <th>4</th>\n",
              "      <td>1954400510</td>\n",
              "      <td>20150218T000000</td>\n",
              "      <td>510000.0</td>\n",
              "      <td>...</td>\n",
              "      <td>1800</td>\n",
              "      <td>7503</td>\n",
              "      <td>63.118812</td>\n",
              "    </tr>\n",
              "    <tr>\n",
              "      <th>6</th>\n",
              "      <td>1321400060</td>\n",
              "      <td>20140627T000000</td>\n",
              "      <td>257500.0</td>\n",
              "      <td>...</td>\n",
              "      <td>2238</td>\n",
              "      <td>6819</td>\n",
              "      <td>37.762135</td>\n",
              "    </tr>\n",
              "    <tr>\n",
              "      <th>...</th>\n",
              "      <td>...</td>\n",
              "      <td>...</td>\n",
              "      <td>...</td>\n",
              "      <td>...</td>\n",
              "      <td>...</td>\n",
              "      <td>...</td>\n",
              "      <td>...</td>\n",
              "    </tr>\n",
              "    <tr>\n",
              "      <th>21608</th>\n",
              "      <td>263000018</td>\n",
              "      <td>20140521T000000</td>\n",
              "      <td>360000.0</td>\n",
              "      <td>...</td>\n",
              "      <td>1530</td>\n",
              "      <td>1509</td>\n",
              "      <td>318.302387</td>\n",
              "    </tr>\n",
              "    <tr>\n",
              "      <th>21609</th>\n",
              "      <td>6600060120</td>\n",
              "      <td>20150223T000000</td>\n",
              "      <td>400000.0</td>\n",
              "      <td>...</td>\n",
              "      <td>1830</td>\n",
              "      <td>7200</td>\n",
              "      <td>68.811285</td>\n",
              "    </tr>\n",
              "    <tr>\n",
              "      <th>21610</th>\n",
              "      <td>1523300141</td>\n",
              "      <td>20140623T000000</td>\n",
              "      <td>402101.0</td>\n",
              "      <td>...</td>\n",
              "      <td>1020</td>\n",
              "      <td>2007</td>\n",
              "      <td>297.852593</td>\n",
              "    </tr>\n",
              "    <tr>\n",
              "      <th>21611</th>\n",
              "      <td>291310100</td>\n",
              "      <td>20150116T000000</td>\n",
              "      <td>400000.0</td>\n",
              "      <td>...</td>\n",
              "      <td>1410</td>\n",
              "      <td>1287</td>\n",
              "      <td>167.504188</td>\n",
              "    </tr>\n",
              "    <tr>\n",
              "      <th>21612</th>\n",
              "      <td>1523300157</td>\n",
              "      <td>20141015T000000</td>\n",
              "      <td>325000.0</td>\n",
              "      <td>...</td>\n",
              "      <td>1020</td>\n",
              "      <td>1357</td>\n",
              "      <td>302.044610</td>\n",
              "    </tr>\n",
              "  </tbody>\n",
              "</table>\n",
              "<p>19442 rows × 22 columns</p>\n",
              "</div>"
            ],
            "text/plain": [
              "               id             date     price  ...  sqft_living15  sqft_lot15  \\\n",
              "0      7129300520  20141013T000000  221900.0  ...           1340        5650   \n",
              "1      6414100192  20141209T000000  538000.0  ...           1690        7639   \n",
              "3      2487200875  20141209T000000  604000.0  ...           1360        5000   \n",
              "4      1954400510  20150218T000000  510000.0  ...           1800        7503   \n",
              "6      1321400060  20140627T000000  257500.0  ...           2238        6819   \n",
              "...           ...              ...       ...  ...            ...         ...   \n",
              "21608   263000018  20140521T000000  360000.0  ...           1530        1509   \n",
              "21609  6600060120  20150223T000000  400000.0  ...           1830        7200   \n",
              "21610  1523300141  20140623T000000  402101.0  ...           1020        2007   \n",
              "21611   291310100  20150116T000000  400000.0  ...           1410        1287   \n",
              "21612  1523300157  20141015T000000  325000.0  ...           1020        1357   \n",
              "\n",
              "       pricepersqft  \n",
              "0         39.274336  \n",
              "1         74.288870  \n",
              "3        120.800000  \n",
              "4         63.118812  \n",
              "6         37.762135  \n",
              "...             ...  \n",
              "21608    318.302387  \n",
              "21609     68.811285  \n",
              "21610    297.852593  \n",
              "21611    167.504188  \n",
              "21612    302.044610  \n",
              "\n",
              "[19442 rows x 22 columns]"
            ]
          },
          "metadata": {},
          "execution_count": 48
        }
      ]
    },
    {
      "cell_type": "code",
      "metadata": {
        "id": "BAG15P1UQ5Tb"
      },
      "source": [
        "import pandas as pd\n",
        "import matplotlib\n",
        "from matplotlib import pyplot as plt\n",
        "%matplotlib inline"
      ],
      "execution_count": null,
      "outputs": []
    },
    {
      "cell_type": "code",
      "metadata": {
        "colab": {
          "base_uri": "https://localhost:8080/",
          "height": 232
        },
        "id": "LWW5XNQ1Q87L",
        "outputId": "1eb7670a-f5e3-48a7-f622-ac9f2763f064"
      },
      "source": [
        "housedata_df.sample(5)"
      ],
      "execution_count": null,
      "outputs": [
        {
          "output_type": "execute_result",
          "data": {
            "text/html": [
              "<div>\n",
              "<style scoped>\n",
              "    .dataframe tbody tr th:only-of-type {\n",
              "        vertical-align: middle;\n",
              "    }\n",
              "\n",
              "    .dataframe tbody tr th {\n",
              "        vertical-align: top;\n",
              "    }\n",
              "\n",
              "    .dataframe thead th {\n",
              "        text-align: right;\n",
              "    }\n",
              "</style>\n",
              "<table border=\"1\" class=\"dataframe\">\n",
              "  <thead>\n",
              "    <tr style=\"text-align: right;\">\n",
              "      <th></th>\n",
              "      <th>id</th>\n",
              "      <th>date</th>\n",
              "      <th>price</th>\n",
              "      <th>...</th>\n",
              "      <th>sqft_living15</th>\n",
              "      <th>sqft_lot15</th>\n",
              "      <th>pricepersqft</th>\n",
              "    </tr>\n",
              "  </thead>\n",
              "  <tbody>\n",
              "    <tr>\n",
              "      <th>13293</th>\n",
              "      <td>5015001215</td>\n",
              "      <td>20150423T000000</td>\n",
              "      <td>1125000.0</td>\n",
              "      <td>...</td>\n",
              "      <td>1770</td>\n",
              "      <td>4000</td>\n",
              "      <td>281.250000</td>\n",
              "    </tr>\n",
              "    <tr>\n",
              "      <th>14540</th>\n",
              "      <td>3678900450</td>\n",
              "      <td>20140926T000000</td>\n",
              "      <td>615000.0</td>\n",
              "      <td>...</td>\n",
              "      <td>1530</td>\n",
              "      <td>5098</td>\n",
              "      <td>162.569389</td>\n",
              "    </tr>\n",
              "    <tr>\n",
              "      <th>4859</th>\n",
              "      <td>1338300170</td>\n",
              "      <td>20150324T000000</td>\n",
              "      <td>2048000.0</td>\n",
              "      <td>...</td>\n",
              "      <td>3300</td>\n",
              "      <td>8001</td>\n",
              "      <td>249.512671</td>\n",
              "    </tr>\n",
              "    <tr>\n",
              "      <th>12402</th>\n",
              "      <td>3522059196</td>\n",
              "      <td>20140627T000000</td>\n",
              "      <td>355000.0</td>\n",
              "      <td>...</td>\n",
              "      <td>1950</td>\n",
              "      <td>6280</td>\n",
              "      <td>15.643591</td>\n",
              "    </tr>\n",
              "    <tr>\n",
              "      <th>15243</th>\n",
              "      <td>7228500415</td>\n",
              "      <td>20140826T000000</td>\n",
              "      <td>480000.0</td>\n",
              "      <td>...</td>\n",
              "      <td>1530</td>\n",
              "      <td>2370</td>\n",
              "      <td>202.531646</td>\n",
              "    </tr>\n",
              "  </tbody>\n",
              "</table>\n",
              "<p>5 rows × 22 columns</p>\n",
              "</div>"
            ],
            "text/plain": [
              "               id             date      price  ...  sqft_living15  sqft_lot15  \\\n",
              "13293  5015001215  20150423T000000  1125000.0  ...           1770        4000   \n",
              "14540  3678900450  20140926T000000   615000.0  ...           1530        5098   \n",
              "4859   1338300170  20150324T000000  2048000.0  ...           3300        8001   \n",
              "12402  3522059196  20140627T000000   355000.0  ...           1950        6280   \n",
              "15243  7228500415  20140826T000000   480000.0  ...           1530        2370   \n",
              "\n",
              "       pricepersqft  \n",
              "13293    281.250000  \n",
              "14540    162.569389  \n",
              "4859     249.512671  \n",
              "12402     15.643591  \n",
              "15243    202.531646  \n",
              "\n",
              "[5 rows x 22 columns]"
            ]
          },
          "metadata": {},
          "execution_count": 50
        }
      ]
    },
    {
      "cell_type": "code",
      "metadata": {
        "colab": {
          "base_uri": "https://localhost:8080/",
          "height": 279
        },
        "id": "ENG3NQDfRYsj",
        "outputId": "f92bfb93-ac89-4fc4-a7a1-68ff437e5375"
      },
      "source": [
        "plt.hist(housedata_df.price, bins=20, rwidth=0.8)\n",
        "plt.xlabel('Price')\n",
        "plt.ylabel('Count')\n",
        "plt.show()"
      ],
      "execution_count": null,
      "outputs": [
        {
          "output_type": "display_data",
          "data": {
            "image/png": "[encoded data removed]",
            "text/plain": [
              "<Figure size 432x288 with 1 Axes>"
            ]
          },
          "metadata": {
            "needs_background": "light"
          }
        }
      ]
    },
    {
      "cell_type": "code",
      "metadata": {
        "colab": {
          "base_uri": "https://localhost:8080/",
          "height": 308
        },
        "id": "oFlT5YNYRpAw",
        "outputId": "f8a57640-89de-451f-c22e-92d99f029d43"
      },
      "source": [
        "from scipy.stats import norm\n",
        "import numpy as np\n",
        "plt.hist(housedata_df.price, bins=20, rwidth=0.8, density=True)\n",
        "plt.xlabel('price')\n",
        "plt.ylabel('Count')\n",
        "\n",
        "rng = np.arange(housedata_df.price.min(), housedata_df.price.max(), 0.1)\n",
        "plt.plot(rng, norm.pdf(rng,housedata_df.price.mean(),housedata_df.price.std()))"
      ],
      "execution_count": null,
      "outputs": [
        {
          "output_type": "execute_result",
          "data": {
            "text/plain": [
              "[<matplotlib.lines.Line2D at 0x7f5d15cd8a50>]"
            ]
          },
          "metadata": {},
          "execution_count": 52
        },
        {
          "output_type": "display_data",
          "data": {
            "image/png": "[encoded data removed]",
            "text/plain": [
              "<Figure size 432x288 with 1 Axes>"
            ]
          },
          "metadata": {
            "needs_background": "light"
          }
        }
      ]
    },
    {
      "cell_type": "code",
      "metadata": {
        "colab": {
          "base_uri": "https://localhost:8080/"
        },
        "id": "zCmfjRJuTsTJ",
        "outputId": "eaed8bdc-8482-47cb-df58-18891bff5d17"
      },
      "source": [
        "housedata_df.price.mean()"
      ],
      "execution_count": null,
      "outputs": [
        {
          "output_type": "execute_result",
          "data": {
            "text/plain": [
              "540088.1417665294"
            ]
          },
          "metadata": {},
          "execution_count": 54
        }
      ]
    },
    {
      "cell_type": "code",
      "metadata": {
        "colab": {
          "base_uri": "https://localhost:8080/"
        },
        "id": "0Abr7-kRUA9M",
        "outputId": "3bb09a6b-cf0c-459b-f385-e2e75bf3d3ed"
      },
      "source": [
        "housedata_df.price.std()"
      ],
      "execution_count": null,
      "outputs": [
        {
          "output_type": "execute_result",
          "data": {
            "text/plain": [
              "367127.1964826997"
            ]
          },
          "metadata": {},
          "execution_count": 55
        }
      ]
    },
    {
      "cell_type": "code",
      "metadata": {
        "id": "GYl54OQ-UT5y",
        "colab": {
          "base_uri": "https://localhost:8080/"
        },
        "outputId": "c49e725a-8393-46b5-fc6d-2e3b54468999"
      },
      "source": [
        "upper_limit = housedata_df.price.mean() + 3*housedata_df.price.std()\n",
        "upper_limit"
      ],
      "execution_count": null,
      "outputs": [
        {
          "output_type": "execute_result",
          "data": {
            "text/plain": [
              "1641469.7312146286"
            ]
          },
          "metadata": {},
          "execution_count": 60
        }
      ]
    },
    {
      "cell_type": "code",
      "metadata": {
        "colab": {
          "base_uri": "https://localhost:8080/"
        },
        "id": "O2aNI0dUX6Uy",
        "outputId": "320d5bfb-92f9-4206-a385-602cdcc4d71a"
      },
      "source": [
        "lower_limit = housedata_df.price.mean() + 3*housedata_df.price.std()\n",
        "lower_limit"
      ],
      "execution_count": null,
      "outputs": [
        {
          "output_type": "execute_result",
          "data": {
            "text/plain": [
              "1641469.7312146286"
            ]
          },
          "metadata": {},
          "execution_count": 61
        }
      ]
    },
    {
      "cell_type": "code",
      "metadata": {
        "colab": {
          "base_uri": "https://localhost:8080/",
          "height": 417
        },
        "id": "fRpJh3E1YAN-",
        "outputId": "3ff2b1c7-d2e3-4d76-b576-121997266560"
      },
      "source": [
        "housedata_df[(housedata_df.price>upper_limit) | (housedata_df.price<lower_limit)]"
      ],
      "execution_count": null,
      "outputs": [
        {
          "output_type": "execute_result",
          "data": {
            "text/html": [
              "<div>\n",
              "<style scoped>\n",
              "    .dataframe tbody tr th:only-of-type {\n",
              "        vertical-align: middle;\n",
              "    }\n",
              "\n",
              "    .dataframe tbody tr th {\n",
              "        vertical-align: top;\n",
              "    }\n",
              "\n",
              "    .dataframe thead th {\n",
              "        text-align: right;\n",
              "    }\n",
              "</style>\n",
              "<table border=\"1\" class=\"dataframe\">\n",
              "  <thead>\n",
              "    <tr style=\"text-align: right;\">\n",
              "      <th></th>\n",
              "      <th>id</th>\n",
              "      <th>date</th>\n",
              "      <th>price</th>\n",
              "      <th>...</th>\n",
              "      <th>sqft_living15</th>\n",
              "      <th>sqft_lot15</th>\n",
              "      <th>pricepersqft</th>\n",
              "    </tr>\n",
              "  </thead>\n",
              "  <tbody>\n",
              "    <tr>\n",
              "      <th>0</th>\n",
              "      <td>7129300520</td>\n",
              "      <td>20141013T000000</td>\n",
              "      <td>221900.0</td>\n",
              "      <td>...</td>\n",
              "      <td>1340</td>\n",
              "      <td>5650</td>\n",
              "      <td>39.274336</td>\n",
              "    </tr>\n",
              "    <tr>\n",
              "      <th>1</th>\n",
              "      <td>6414100192</td>\n",
              "      <td>20141209T000000</td>\n",
              "      <td>538000.0</td>\n",
              "      <td>...</td>\n",
              "      <td>1690</td>\n",
              "      <td>7639</td>\n",
              "      <td>74.288870</td>\n",
              "    </tr>\n",
              "    <tr>\n",
              "      <th>2</th>\n",
              "      <td>5631500400</td>\n",
              "      <td>20150225T000000</td>\n",
              "      <td>180000.0</td>\n",
              "      <td>...</td>\n",
              "      <td>2720</td>\n",
              "      <td>8062</td>\n",
              "      <td>18.000000</td>\n",
              "    </tr>\n",
              "    <tr>\n",
              "      <th>3</th>\n",
              "      <td>2487200875</td>\n",
              "      <td>20141209T000000</td>\n",
              "      <td>604000.0</td>\n",
              "      <td>...</td>\n",
              "      <td>1360</td>\n",
              "      <td>5000</td>\n",
              "      <td>120.800000</td>\n",
              "    </tr>\n",
              "    <tr>\n",
              "      <th>4</th>\n",
              "      <td>1954400510</td>\n",
              "      <td>20150218T000000</td>\n",
              "      <td>510000.0</td>\n",
              "      <td>...</td>\n",
              "      <td>1800</td>\n",
              "      <td>7503</td>\n",
              "      <td>63.118812</td>\n",
              "    </tr>\n",
              "    <tr>\n",
              "      <th>...</th>\n",
              "      <td>...</td>\n",
              "      <td>...</td>\n",
              "      <td>...</td>\n",
              "      <td>...</td>\n",
              "      <td>...</td>\n",
              "      <td>...</td>\n",
              "      <td>...</td>\n",
              "    </tr>\n",
              "    <tr>\n",
              "      <th>21608</th>\n",
              "      <td>263000018</td>\n",
              "      <td>20140521T000000</td>\n",
              "      <td>360000.0</td>\n",
              "      <td>...</td>\n",
              "      <td>1530</td>\n",
              "      <td>1509</td>\n",
              "      <td>318.302387</td>\n",
              "    </tr>\n",
              "    <tr>\n",
              "      <th>21609</th>\n",
              "      <td>6600060120</td>\n",
              "      <td>20150223T000000</td>\n",
              "      <td>400000.0</td>\n",
              "      <td>...</td>\n",
              "      <td>1830</td>\n",
              "      <td>7200</td>\n",
              "      <td>68.811285</td>\n",
              "    </tr>\n",
              "    <tr>\n",
              "      <th>21610</th>\n",
              "      <td>1523300141</td>\n",
              "      <td>20140623T000000</td>\n",
              "      <td>402101.0</td>\n",
              "      <td>...</td>\n",
              "      <td>1020</td>\n",
              "      <td>2007</td>\n",
              "      <td>297.852593</td>\n",
              "    </tr>\n",
              "    <tr>\n",
              "      <th>21611</th>\n",
              "      <td>291310100</td>\n",
              "      <td>20150116T000000</td>\n",
              "      <td>400000.0</td>\n",
              "      <td>...</td>\n",
              "      <td>1410</td>\n",
              "      <td>1287</td>\n",
              "      <td>167.504188</td>\n",
              "    </tr>\n",
              "    <tr>\n",
              "      <th>21612</th>\n",
              "      <td>1523300157</td>\n",
              "      <td>20141015T000000</td>\n",
              "      <td>325000.0</td>\n",
              "      <td>...</td>\n",
              "      <td>1020</td>\n",
              "      <td>1357</td>\n",
              "      <td>302.044610</td>\n",
              "    </tr>\n",
              "  </tbody>\n",
              "</table>\n",
              "<p>21613 rows × 22 columns</p>\n",
              "</div>"
            ],
            "text/plain": [
              "               id             date     price  ...  sqft_living15  sqft_lot15  \\\n",
              "0      7129300520  20141013T000000  221900.0  ...           1340        5650   \n",
              "1      6414100192  20141209T000000  538000.0  ...           1690        7639   \n",
              "2      5631500400  20150225T000000  180000.0  ...           2720        8062   \n",
              "3      2487200875  20141209T000000  604000.0  ...           1360        5000   \n",
              "4      1954400510  20150218T000000  510000.0  ...           1800        7503   \n",
              "...           ...              ...       ...  ...            ...         ...   \n",
              "21608   263000018  20140521T000000  360000.0  ...           1530        1509   \n",
              "21609  6600060120  20150223T000000  400000.0  ...           1830        7200   \n",
              "21610  1523300141  20140623T000000  402101.0  ...           1020        2007   \n",
              "21611   291310100  20150116T000000  400000.0  ...           1410        1287   \n",
              "21612  1523300157  20141015T000000  325000.0  ...           1020        1357   \n",
              "\n",
              "       pricepersqft  \n",
              "0         39.274336  \n",
              "1         74.288870  \n",
              "2         18.000000  \n",
              "3        120.800000  \n",
              "4         63.118812  \n",
              "...             ...  \n",
              "21608    318.302387  \n",
              "21609     68.811285  \n",
              "21610    297.852593  \n",
              "21611    167.504188  \n",
              "21612    302.044610  \n",
              "\n",
              "[21613 rows x 22 columns]"
            ]
          },
          "metadata": {},
          "execution_count": 62
        }
      ]
    },
    {
      "cell_type": "code",
      "metadata": {
        "colab": {
          "base_uri": "https://localhost:8080/",
          "height": 78
        },
        "id": "HLGOvbD5YnX7",
        "outputId": "f34bdf7a-c64f-4093-e8db-1ef4805106ed"
      },
      "source": [
        "housedata_df_no_outlier_std_dev = housedata_df[(housedata_df.price<upper_limit) & (housedata_df.price>lower_limit)]\n",
        "housedata_df_no_outlier_std_dev.head()"
      ],
      "execution_count": null,
      "outputs": [
        {
          "output_type": "execute_result",
          "data": {
            "text/html": [
              "<div>\n",
              "<style scoped>\n",
              "    .dataframe tbody tr th:only-of-type {\n",
              "        vertical-align: middle;\n",
              "    }\n",
              "\n",
              "    .dataframe tbody tr th {\n",
              "        vertical-align: top;\n",
              "    }\n",
              "\n",
              "    .dataframe thead th {\n",
              "        text-align: right;\n",
              "    }\n",
              "</style>\n",
              "<table border=\"1\" class=\"dataframe\">\n",
              "  <thead>\n",
              "    <tr style=\"text-align: right;\">\n",
              "      <th></th>\n",
              "      <th>id</th>\n",
              "      <th>date</th>\n",
              "      <th>price</th>\n",
              "      <th>...</th>\n",
              "      <th>sqft_living15</th>\n",
              "      <th>sqft_lot15</th>\n",
              "      <th>pricepersqft</th>\n",
              "    </tr>\n",
              "  </thead>\n",
              "  <tbody>\n",
              "  </tbody>\n",
              "</table>\n",
              "<p>0 rows × 22 columns</p>\n",
              "</div>"
            ],
            "text/plain": [
              "Empty DataFrame\n",
              "Columns: [id, date, price, bedrooms, bathrooms, sqft_living, sqft_lot, floors, waterfront, view, condition, grade, sqft_above, sqft_basement, yr_built, yr_renovated, zipcode, lat, long, sqft_living15, sqft_lot15, pricepersqft]\n",
              "Index: []\n",
              "\n",
              "[0 rows x 22 columns]"
            ]
          },
          "metadata": {},
          "execution_count": 63
        }
      ]
    },
    {
      "cell_type": "code",
      "metadata": {
        "colab": {
          "base_uri": "https://localhost:8080/"
        },
        "id": "57JqYSD3ZAVG",
        "outputId": "151c3ade-7161-4109-c380-35e9044ae99c"
      },
      "source": [
        "housedata_df_no_outlier_std_dev.shape"
      ],
      "execution_count": null,
      "outputs": [
        {
          "output_type": "execute_result",
          "data": {
            "text/plain": [
              "(0, 22)"
            ]
          },
          "metadata": {},
          "execution_count": 64
        }
      ]
    },
    {
      "cell_type": "code",
      "metadata": {
        "colab": {
          "base_uri": "https://localhost:8080/"
        },
        "id": "2ndAO7CCZHxP",
        "outputId": "e0d00a95-520c-49c4-a1f0-1f409f2e34e5"
      },
      "source": [
        "housedata_df.shape"
      ],
      "execution_count": null,
      "outputs": [
        {
          "output_type": "execute_result",
          "data": {
            "text/plain": [
              "(21613, 22)"
            ]
          },
          "metadata": {},
          "execution_count": 65
        }
      ]
    },
    {
      "cell_type": "code",
      "metadata": {
        "colab": {
          "base_uri": "https://localhost:8080/",
          "height": 232
        },
        "id": "GNwqVHuiZToN",
        "outputId": "dcf3b095-0ada-46e0-f8ef-3412773a7c81"
      },
      "source": [
        "housedata_df['zscore'] = ( housedata_df.price - housedata_df.price.mean() ) / housedata_df.price.std()\n",
        "housedata_df.head(5)"
      ],
      "execution_count": null,
      "outputs": [
        {
          "output_type": "execute_result",
          "data": {
            "text/html": [
              "<div>\n",
              "<style scoped>\n",
              "    .dataframe tbody tr th:only-of-type {\n",
              "        vertical-align: middle;\n",
              "    }\n",
              "\n",
              "    .dataframe tbody tr th {\n",
              "        vertical-align: top;\n",
              "    }\n",
              "\n",
              "    .dataframe thead th {\n",
              "        text-align: right;\n",
              "    }\n",
              "</style>\n",
              "<table border=\"1\" class=\"dataframe\">\n",
              "  <thead>\n",
              "    <tr style=\"text-align: right;\">\n",
              "      <th></th>\n",
              "      <th>id</th>\n",
              "      <th>date</th>\n",
              "      <th>price</th>\n",
              "      <th>...</th>\n",
              "      <th>sqft_lot15</th>\n",
              "      <th>pricepersqft</th>\n",
              "      <th>zscore</th>\n",
              "    </tr>\n",
              "  </thead>\n",
              "  <tbody>\n",
              "    <tr>\n",
              "      <th>0</th>\n",
              "      <td>7129300520</td>\n",
              "      <td>20141013T000000</td>\n",
              "      <td>221900.0</td>\n",
              "      <td>...</td>\n",
              "      <td>5650</td>\n",
              "      <td>39.274336</td>\n",
              "      <td>-0.866697</td>\n",
              "    </tr>\n",
              "    <tr>\n",
              "      <th>1</th>\n",
              "      <td>6414100192</td>\n",
              "      <td>20141209T000000</td>\n",
              "      <td>538000.0</td>\n",
              "      <td>...</td>\n",
              "      <td>7639</td>\n",
              "      <td>74.288870</td>\n",
              "      <td>-0.005688</td>\n",
              "    </tr>\n",
              "    <tr>\n",
              "      <th>2</th>\n",
              "      <td>5631500400</td>\n",
              "      <td>20150225T000000</td>\n",
              "      <td>180000.0</td>\n",
              "      <td>...</td>\n",
              "      <td>8062</td>\n",
              "      <td>18.000000</td>\n",
              "      <td>-0.980827</td>\n",
              "    </tr>\n",
              "    <tr>\n",
              "      <th>3</th>\n",
              "      <td>2487200875</td>\n",
              "      <td>20141209T000000</td>\n",
              "      <td>604000.0</td>\n",
              "      <td>...</td>\n",
              "      <td>5000</td>\n",
              "      <td>120.800000</td>\n",
              "      <td>0.174086</td>\n",
              "    </tr>\n",
              "    <tr>\n",
              "      <th>4</th>\n",
              "      <td>1954400510</td>\n",
              "      <td>20150218T000000</td>\n",
              "      <td>510000.0</td>\n",
              "      <td>...</td>\n",
              "      <td>7503</td>\n",
              "      <td>63.118812</td>\n",
              "      <td>-0.081956</td>\n",
              "    </tr>\n",
              "  </tbody>\n",
              "</table>\n",
              "<p>5 rows × 23 columns</p>\n",
              "</div>"
            ],
            "text/plain": [
              "           id             date     price  ...  sqft_lot15  pricepersqft  \\\n",
              "0  7129300520  20141013T000000  221900.0  ...        5650     39.274336   \n",
              "1  6414100192  20141209T000000  538000.0  ...        7639     74.288870   \n",
              "2  5631500400  20150225T000000  180000.0  ...        8062     18.000000   \n",
              "3  2487200875  20141209T000000  604000.0  ...        5000    120.800000   \n",
              "4  1954400510  20150218T000000  510000.0  ...        7503     63.118812   \n",
              "\n",
              "     zscore  \n",
              "0 -0.866697  \n",
              "1 -0.005688  \n",
              "2 -0.980827  \n",
              "3  0.174086  \n",
              "4 -0.081956  \n",
              "\n",
              "[5 rows x 23 columns]"
            ]
          },
          "metadata": {},
          "execution_count": 66
        }
      ]
    },
    {
      "cell_type": "code",
      "metadata": {
        "colab": {
          "base_uri": "https://localhost:8080/",
          "height": 417
        },
        "id": "pWhLi9_tZzr3",
        "outputId": "f2e58a64-f4ca-44ef-f2da-96e968af6f84"
      },
      "source": [
        "housedata_df[housedata_df['zscore']>3]"
      ],
      "execution_count": null,
      "outputs": [
        {
          "output_type": "execute_result",
          "data": {
            "text/html": [
              "<div>\n",
              "<style scoped>\n",
              "    .dataframe tbody tr th:only-of-type {\n",
              "        vertical-align: middle;\n",
              "    }\n",
              "\n",
              "    .dataframe tbody tr th {\n",
              "        vertical-align: top;\n",
              "    }\n",
              "\n",
              "    .dataframe thead th {\n",
              "        text-align: right;\n",
              "    }\n",
              "</style>\n",
              "<table border=\"1\" class=\"dataframe\">\n",
              "  <thead>\n",
              "    <tr style=\"text-align: right;\">\n",
              "      <th></th>\n",
              "      <th>id</th>\n",
              "      <th>date</th>\n",
              "      <th>price</th>\n",
              "      <th>...</th>\n",
              "      <th>sqft_lot15</th>\n",
              "      <th>pricepersqft</th>\n",
              "      <th>zscore</th>\n",
              "    </tr>\n",
              "  </thead>\n",
              "  <tbody>\n",
              "    <tr>\n",
              "      <th>21</th>\n",
              "      <td>2524049179</td>\n",
              "      <td>20140826T000000</td>\n",
              "      <td>2000000.0</td>\n",
              "      <td>...</td>\n",
              "      <td>20336</td>\n",
              "      <td>44.576192</td>\n",
              "      <td>3.976583</td>\n",
              "    </tr>\n",
              "    <tr>\n",
              "      <th>153</th>\n",
              "      <td>7855801670</td>\n",
              "      <td>20150401T000000</td>\n",
              "      <td>2250000.0</td>\n",
              "      <td>...</td>\n",
              "      <td>9750</td>\n",
              "      <td>113.350126</td>\n",
              "      <td>4.657546</td>\n",
              "    </tr>\n",
              "    <tr>\n",
              "      <th>246</th>\n",
              "      <td>2025069065</td>\n",
              "      <td>20140929T000000</td>\n",
              "      <td>2400000.0</td>\n",
              "      <td>...</td>\n",
              "      <td>18841</td>\n",
              "      <td>287.287527</td>\n",
              "      <td>5.066124</td>\n",
              "    </tr>\n",
              "    <tr>\n",
              "      <th>269</th>\n",
              "      <td>7960900060</td>\n",
              "      <td>20150504T000000</td>\n",
              "      <td>2900000.0</td>\n",
              "      <td>...</td>\n",
              "      <td>20060</td>\n",
              "      <td>144.278607</td>\n",
              "      <td>6.428050</td>\n",
              "    </tr>\n",
              "    <tr>\n",
              "      <th>282</th>\n",
              "      <td>7424700045</td>\n",
              "      <td>20150513T000000</td>\n",
              "      <td>2050000.0</td>\n",
              "      <td>...</td>\n",
              "      <td>7556</td>\n",
              "      <td>241.745283</td>\n",
              "      <td>4.112776</td>\n",
              "    </tr>\n",
              "    <tr>\n",
              "      <th>...</th>\n",
              "      <td>...</td>\n",
              "      <td>...</td>\n",
              "      <td>...</td>\n",
              "      <td>...</td>\n",
              "      <td>...</td>\n",
              "      <td>...</td>\n",
              "      <td>...</td>\n",
              "    </tr>\n",
              "    <tr>\n",
              "      <th>21514</th>\n",
              "      <td>3262300818</td>\n",
              "      <td>20150227T000000</td>\n",
              "      <td>1865000.0</td>\n",
              "      <td>...</td>\n",
              "      <td>12150</td>\n",
              "      <td>212.004092</td>\n",
              "      <td>3.608863</td>\n",
              "    </tr>\n",
              "    <tr>\n",
              "      <th>21530</th>\n",
              "      <td>8964800330</td>\n",
              "      <td>20150407T000000</td>\n",
              "      <td>3000000.0</td>\n",
              "      <td>...</td>\n",
              "      <td>12752</td>\n",
              "      <td>202.388181</td>\n",
              "      <td>6.700435</td>\n",
              "    </tr>\n",
              "    <tr>\n",
              "      <th>21540</th>\n",
              "      <td>715010530</td>\n",
              "      <td>20150113T000000</td>\n",
              "      <td>1881580.0</td>\n",
              "      <td>...</td>\n",
              "      <td>12969</td>\n",
              "      <td>144.736923</td>\n",
              "      <td>3.654025</td>\n",
              "    </tr>\n",
              "    <tr>\n",
              "      <th>21568</th>\n",
              "      <td>524059330</td>\n",
              "      <td>20150130T000000</td>\n",
              "      <td>1700000.0</td>\n",
              "      <td>...</td>\n",
              "      <td>10777</td>\n",
              "      <td>189.668638</td>\n",
              "      <td>3.159428</td>\n",
              "    </tr>\n",
              "    <tr>\n",
              "      <th>21576</th>\n",
              "      <td>9253900271</td>\n",
              "      <td>20150107T000000</td>\n",
              "      <td>3567000.0</td>\n",
              "      <td>...</td>\n",
              "      <td>18270</td>\n",
              "      <td>337.018141</td>\n",
              "      <td>8.244859</td>\n",
              "    </tr>\n",
              "  </tbody>\n",
              "</table>\n",
              "<p>406 rows × 23 columns</p>\n",
              "</div>"
            ],
            "text/plain": [
              "               id             date      price  ...  sqft_lot15  pricepersqft  \\\n",
              "21     2524049179  20140826T000000  2000000.0  ...       20336     44.576192   \n",
              "153    7855801670  20150401T000000  2250000.0  ...        9750    113.350126   \n",
              "246    2025069065  20140929T000000  2400000.0  ...       18841    287.287527   \n",
              "269    7960900060  20150504T000000  2900000.0  ...       20060    144.278607   \n",
              "282    7424700045  20150513T000000  2050000.0  ...        7556    241.745283   \n",
              "...           ...              ...        ...  ...         ...           ...   \n",
              "21514  3262300818  20150227T000000  1865000.0  ...       12150    212.004092   \n",
              "21530  8964800330  20150407T000000  3000000.0  ...       12752    202.388181   \n",
              "21540   715010530  20150113T000000  1881580.0  ...       12969    144.736923   \n",
              "21568   524059330  20150130T000000  1700000.0  ...       10777    189.668638   \n",
              "21576  9253900271  20150107T000000  3567000.0  ...       18270    337.018141   \n",
              "\n",
              "         zscore  \n",
              "21     3.976583  \n",
              "153    4.657546  \n",
              "246    5.066124  \n",
              "269    6.428050  \n",
              "282    4.112776  \n",
              "...         ...  \n",
              "21514  3.608863  \n",
              "21530  6.700435  \n",
              "21540  3.654025  \n",
              "21568  3.159428  \n",
              "21576  8.244859  \n",
              "\n",
              "[406 rows x 23 columns]"
            ]
          },
          "metadata": {},
          "execution_count": 67
        }
      ]
    },
    {
      "cell_type": "code",
      "metadata": {
        "colab": {
          "base_uri": "https://localhost:8080/",
          "height": 78
        },
        "id": "9OZ7_KwEZ8Fl",
        "outputId": "1377e6ba-9d2e-4c33-de8b-39c82d232b1f"
      },
      "source": [
        "housedata_df[housedata_df['zscore']<-3]"
      ],
      "execution_count": null,
      "outputs": [
        {
          "output_type": "execute_result",
          "data": {
            "text/html": [
              "<div>\n",
              "<style scoped>\n",
              "    .dataframe tbody tr th:only-of-type {\n",
              "        vertical-align: middle;\n",
              "    }\n",
              "\n",
              "    .dataframe tbody tr th {\n",
              "        vertical-align: top;\n",
              "    }\n",
              "\n",
              "    .dataframe thead th {\n",
              "        text-align: right;\n",
              "    }\n",
              "</style>\n",
              "<table border=\"1\" class=\"dataframe\">\n",
              "  <thead>\n",
              "    <tr style=\"text-align: right;\">\n",
              "      <th></th>\n",
              "      <th>id</th>\n",
              "      <th>date</th>\n",
              "      <th>price</th>\n",
              "      <th>...</th>\n",
              "      <th>sqft_lot15</th>\n",
              "      <th>pricepersqft</th>\n",
              "      <th>zscore</th>\n",
              "    </tr>\n",
              "  </thead>\n",
              "  <tbody>\n",
              "  </tbody>\n",
              "</table>\n",
              "<p>0 rows × 23 columns</p>\n",
              "</div>"
            ],
            "text/plain": [
              "Empty DataFrame\n",
              "Columns: [id, date, price, bedrooms, bathrooms, sqft_living, sqft_lot, floors, waterfront, view, condition, grade, sqft_above, sqft_basement, yr_built, yr_renovated, zipcode, lat, long, sqft_living15, sqft_lot15, pricepersqft, zscore]\n",
              "Index: []\n",
              "\n",
              "[0 rows x 23 columns]"
            ]
          },
          "metadata": {},
          "execution_count": 68
        }
      ]
    },
    {
      "cell_type": "code",
      "metadata": {
        "colab": {
          "base_uri": "https://localhost:8080/",
          "height": 417
        },
        "id": "nIgD551xZ_v9",
        "outputId": "e184fe16-106e-4cf8-d5e8-ce96e58e0f2a"
      },
      "source": [
        "housedata_df[(housedata_df.zscore<-3) | (housedata_df.zscore>3)]"
      ],
      "execution_count": null,
      "outputs": [
        {
          "output_type": "execute_result",
          "data": {
            "text/html": [
              "<div>\n",
              "<style scoped>\n",
              "    .dataframe tbody tr th:only-of-type {\n",
              "        vertical-align: middle;\n",
              "    }\n",
              "\n",
              "    .dataframe tbody tr th {\n",
              "        vertical-align: top;\n",
              "    }\n",
              "\n",
              "    .dataframe thead th {\n",
              "        text-align: right;\n",
              "    }\n",
              "</style>\n",
              "<table border=\"1\" class=\"dataframe\">\n",
              "  <thead>\n",
              "    <tr style=\"text-align: right;\">\n",
              "      <th></th>\n",
              "      <th>id</th>\n",
              "      <th>date</th>\n",
              "      <th>price</th>\n",
              "      <th>...</th>\n",
              "      <th>sqft_lot15</th>\n",
              "      <th>pricepersqft</th>\n",
              "      <th>zscore</th>\n",
              "    </tr>\n",
              "  </thead>\n",
              "  <tbody>\n",
              "    <tr>\n",
              "      <th>21</th>\n",
              "      <td>2524049179</td>\n",
              "      <td>20140826T000000</td>\n",
              "      <td>2000000.0</td>\n",
              "      <td>...</td>\n",
              "      <td>20336</td>\n",
              "      <td>44.576192</td>\n",
              "      <td>3.976583</td>\n",
              "    </tr>\n",
              "    <tr>\n",
              "      <th>153</th>\n",
              "      <td>7855801670</td>\n",
              "      <td>20150401T000000</td>\n",
              "      <td>2250000.0</td>\n",
              "      <td>...</td>\n",
              "      <td>9750</td>\n",
              "      <td>113.350126</td>\n",
              "      <td>4.657546</td>\n",
              "    </tr>\n",
              "    <tr>\n",
              "      <th>246</th>\n",
              "      <td>2025069065</td>\n",
              "      <td>20140929T000000</td>\n",
              "      <td>2400000.0</td>\n",
              "      <td>...</td>\n",
              "      <td>18841</td>\n",
              "      <td>287.287527</td>\n",
              "      <td>5.066124</td>\n",
              "    </tr>\n",
              "    <tr>\n",
              "      <th>269</th>\n",
              "      <td>7960900060</td>\n",
              "      <td>20150504T000000</td>\n",
              "      <td>2900000.0</td>\n",
              "      <td>...</td>\n",
              "      <td>20060</td>\n",
              "      <td>144.278607</td>\n",
              "      <td>6.428050</td>\n",
              "    </tr>\n",
              "    <tr>\n",
              "      <th>282</th>\n",
              "      <td>7424700045</td>\n",
              "      <td>20150513T000000</td>\n",
              "      <td>2050000.0</td>\n",
              "      <td>...</td>\n",
              "      <td>7556</td>\n",
              "      <td>241.745283</td>\n",
              "      <td>4.112776</td>\n",
              "    </tr>\n",
              "    <tr>\n",
              "      <th>...</th>\n",
              "      <td>...</td>\n",
              "      <td>...</td>\n",
              "      <td>...</td>\n",
              "      <td>...</td>\n",
              "      <td>...</td>\n",
              "      <td>...</td>\n",
              "      <td>...</td>\n",
              "    </tr>\n",
              "    <tr>\n",
              "      <th>21514</th>\n",
              "      <td>3262300818</td>\n",
              "      <td>20150227T000000</td>\n",
              "      <td>1865000.0</td>\n",
              "      <td>...</td>\n",
              "      <td>12150</td>\n",
              "      <td>212.004092</td>\n",
              "      <td>3.608863</td>\n",
              "    </tr>\n",
              "    <tr>\n",
              "      <th>21530</th>\n",
              "      <td>8964800330</td>\n",
              "      <td>20150407T000000</td>\n",
              "      <td>3000000.0</td>\n",
              "      <td>...</td>\n",
              "      <td>12752</td>\n",
              "      <td>202.388181</td>\n",
              "      <td>6.700435</td>\n",
              "    </tr>\n",
              "    <tr>\n",
              "      <th>21540</th>\n",
              "      <td>715010530</td>\n",
              "      <td>20150113T000000</td>\n",
              "      <td>1881580.0</td>\n",
              "      <td>...</td>\n",
              "      <td>12969</td>\n",
              "      <td>144.736923</td>\n",
              "      <td>3.654025</td>\n",
              "    </tr>\n",
              "    <tr>\n",
              "      <th>21568</th>\n",
              "      <td>524059330</td>\n",
              "      <td>20150130T000000</td>\n",
              "      <td>1700000.0</td>\n",
              "      <td>...</td>\n",
              "      <td>10777</td>\n",
              "      <td>189.668638</td>\n",
              "      <td>3.159428</td>\n",
              "    </tr>\n",
              "    <tr>\n",
              "      <th>21576</th>\n",
              "      <td>9253900271</td>\n",
              "      <td>20150107T000000</td>\n",
              "      <td>3567000.0</td>\n",
              "      <td>...</td>\n",
              "      <td>18270</td>\n",
              "      <td>337.018141</td>\n",
              "      <td>8.244859</td>\n",
              "    </tr>\n",
              "  </tbody>\n",
              "</table>\n",
              "<p>406 rows × 23 columns</p>\n",
              "</div>"
            ],
            "text/plain": [
              "               id             date      price  ...  sqft_lot15  pricepersqft  \\\n",
              "21     2524049179  20140826T000000  2000000.0  ...       20336     44.576192   \n",
              "153    7855801670  20150401T000000  2250000.0  ...        9750    113.350126   \n",
              "246    2025069065  20140929T000000  2400000.0  ...       18841    287.287527   \n",
              "269    7960900060  20150504T000000  2900000.0  ...       20060    144.278607   \n",
              "282    7424700045  20150513T000000  2050000.0  ...        7556    241.745283   \n",
              "...           ...              ...        ...  ...         ...           ...   \n",
              "21514  3262300818  20150227T000000  1865000.0  ...       12150    212.004092   \n",
              "21530  8964800330  20150407T000000  3000000.0  ...       12752    202.388181   \n",
              "21540   715010530  20150113T000000  1881580.0  ...       12969    144.736923   \n",
              "21568   524059330  20150130T000000  1700000.0  ...       10777    189.668638   \n",
              "21576  9253900271  20150107T000000  3567000.0  ...       18270    337.018141   \n",
              "\n",
              "         zscore  \n",
              "21     3.976583  \n",
              "153    4.657546  \n",
              "246    5.066124  \n",
              "269    6.428050  \n",
              "282    4.112776  \n",
              "...         ...  \n",
              "21514  3.608863  \n",
              "21530  6.700435  \n",
              "21540  3.654025  \n",
              "21568  3.159428  \n",
              "21576  8.244859  \n",
              "\n",
              "[406 rows x 23 columns]"
            ]
          },
          "metadata": {},
          "execution_count": 69
        }
      ]
    },
    {
      "cell_type": "code",
      "metadata": {
        "colab": {
          "base_uri": "https://localhost:8080/",
          "height": 232
        },
        "id": "ABL3PXrnaKl5",
        "outputId": "93d7058d-fab5-421f-fff0-34cb5b7c3fa9"
      },
      "source": [
        "housedata_df_no_outliers = housedata_df[(housedata_df.zscore>-3) & (housedata_df.zscore<3)]\n",
        "housedata_df_no_outliers.head()"
      ],
      "execution_count": null,
      "outputs": [
        {
          "output_type": "execute_result",
          "data": {
            "text/html": [
              "<div>\n",
              "<style scoped>\n",
              "    .dataframe tbody tr th:only-of-type {\n",
              "        vertical-align: middle;\n",
              "    }\n",
              "\n",
              "    .dataframe tbody tr th {\n",
              "        vertical-align: top;\n",
              "    }\n",
              "\n",
              "    .dataframe thead th {\n",
              "        text-align: right;\n",
              "    }\n",
              "</style>\n",
              "<table border=\"1\" class=\"dataframe\">\n",
              "  <thead>\n",
              "    <tr style=\"text-align: right;\">\n",
              "      <th></th>\n",
              "      <th>id</th>\n",
              "      <th>date</th>\n",
              "      <th>price</th>\n",
              "      <th>...</th>\n",
              "      <th>sqft_lot15</th>\n",
              "      <th>pricepersqft</th>\n",
              "      <th>zscore</th>\n",
              "    </tr>\n",
              "  </thead>\n",
              "  <tbody>\n",
              "    <tr>\n",
              "      <th>0</th>\n",
              "      <td>7129300520</td>\n",
              "      <td>20141013T000000</td>\n",
              "      <td>221900.0</td>\n",
              "      <td>...</td>\n",
              "      <td>5650</td>\n",
              "      <td>39.274336</td>\n",
              "      <td>-0.866697</td>\n",
              "    </tr>\n",
              "    <tr>\n",
              "      <th>1</th>\n",
              "      <td>6414100192</td>\n",
              "      <td>20141209T000000</td>\n",
              "      <td>538000.0</td>\n",
              "      <td>...</td>\n",
              "      <td>7639</td>\n",
              "      <td>74.288870</td>\n",
              "      <td>-0.005688</td>\n",
              "    </tr>\n",
              "    <tr>\n",
              "      <th>2</th>\n",
              "      <td>5631500400</td>\n",
              "      <td>20150225T000000</td>\n",
              "      <td>180000.0</td>\n",
              "      <td>...</td>\n",
              "      <td>8062</td>\n",
              "      <td>18.000000</td>\n",
              "      <td>-0.980827</td>\n",
              "    </tr>\n",
              "    <tr>\n",
              "      <th>3</th>\n",
              "      <td>2487200875</td>\n",
              "      <td>20141209T000000</td>\n",
              "      <td>604000.0</td>\n",
              "      <td>...</td>\n",
              "      <td>5000</td>\n",
              "      <td>120.800000</td>\n",
              "      <td>0.174086</td>\n",
              "    </tr>\n",
              "    <tr>\n",
              "      <th>4</th>\n",
              "      <td>1954400510</td>\n",
              "      <td>20150218T000000</td>\n",
              "      <td>510000.0</td>\n",
              "      <td>...</td>\n",
              "      <td>7503</td>\n",
              "      <td>63.118812</td>\n",
              "      <td>-0.081956</td>\n",
              "    </tr>\n",
              "  </tbody>\n",
              "</table>\n",
              "<p>5 rows × 23 columns</p>\n",
              "</div>"
            ],
            "text/plain": [
              "           id             date     price  ...  sqft_lot15  pricepersqft  \\\n",
              "0  7129300520  20141013T000000  221900.0  ...        5650     39.274336   \n",
              "1  6414100192  20141209T000000  538000.0  ...        7639     74.288870   \n",
              "2  5631500400  20150225T000000  180000.0  ...        8062     18.000000   \n",
              "3  2487200875  20141209T000000  604000.0  ...        5000    120.800000   \n",
              "4  1954400510  20150218T000000  510000.0  ...        7503     63.118812   \n",
              "\n",
              "     zscore  \n",
              "0 -0.866697  \n",
              "1 -0.005688  \n",
              "2 -0.980827  \n",
              "3  0.174086  \n",
              "4 -0.081956  \n",
              "\n",
              "[5 rows x 23 columns]"
            ]
          },
          "metadata": {},
          "execution_count": 70
        }
      ]
    },
    {
      "cell_type": "code",
      "metadata": {
        "colab": {
          "base_uri": "https://localhost:8080/"
        },
        "id": "dt0if5lsabnc",
        "outputId": "80bbd87c-a3f0-47a4-f9f1-64f0255a1086"
      },
      "source": [
        "housedata_df_no_outliers.shape"
      ],
      "execution_count": null,
      "outputs": [
        {
          "output_type": "execute_result",
          "data": {
            "text/plain": [
              "(21207, 23)"
            ]
          },
          "metadata": {},
          "execution_count": 71
        }
      ]
    },
    {
      "cell_type": "code",
      "metadata": {
        "colab": {
          "base_uri": "https://localhost:8080/"
        },
        "id": "mvIg_YJFagZM",
        "outputId": "5ab62bff-139e-4d7f-f2af-1e92ed3b8c1f"
      },
      "source": [
        "housedata_df.shape"
      ],
      "execution_count": null,
      "outputs": [
        {
          "output_type": "execute_result",
          "data": {
            "text/plain": [
              "(21613, 23)"
            ]
          },
          "metadata": {},
          "execution_count": 72
        }
      ]
    },
    {
      "cell_type": "code",
      "metadata": {
        "colab": {
          "base_uri": "https://localhost:8080/",
          "height": 417
        },
        "id": "Supc39ZfayKM",
        "outputId": "3918f4dc-13a7-49d8-d307-1a8bd548b390"
      },
      "source": [
        "housedata_df"
      ],
      "execution_count": null,
      "outputs": [
        {
          "output_type": "execute_result",
          "data": {
            "text/html": [
              "<div>\n",
              "<style scoped>\n",
              "    .dataframe tbody tr th:only-of-type {\n",
              "        vertical-align: middle;\n",
              "    }\n",
              "\n",
              "    .dataframe tbody tr th {\n",
              "        vertical-align: top;\n",
              "    }\n",
              "\n",
              "    .dataframe thead th {\n",
              "        text-align: right;\n",
              "    }\n",
              "</style>\n",
              "<table border=\"1\" class=\"dataframe\">\n",
              "  <thead>\n",
              "    <tr style=\"text-align: right;\">\n",
              "      <th></th>\n",
              "      <th>id</th>\n",
              "      <th>date</th>\n",
              "      <th>price</th>\n",
              "      <th>...</th>\n",
              "      <th>sqft_lot15</th>\n",
              "      <th>pricepersqft</th>\n",
              "      <th>zscore</th>\n",
              "    </tr>\n",
              "  </thead>\n",
              "  <tbody>\n",
              "    <tr>\n",
              "      <th>0</th>\n",
              "      <td>7129300520</td>\n",
              "      <td>20141013T000000</td>\n",
              "      <td>221900.0</td>\n",
              "      <td>...</td>\n",
              "      <td>5650</td>\n",
              "      <td>39.274336</td>\n",
              "      <td>-0.866697</td>\n",
              "    </tr>\n",
              "    <tr>\n",
              "      <th>1</th>\n",
              "      <td>6414100192</td>\n",
              "      <td>20141209T000000</td>\n",
              "      <td>538000.0</td>\n",
              "      <td>...</td>\n",
              "      <td>7639</td>\n",
              "      <td>74.288870</td>\n",
              "      <td>-0.005688</td>\n",
              "    </tr>\n",
              "    <tr>\n",
              "      <th>2</th>\n",
              "      <td>5631500400</td>\n",
              "      <td>20150225T000000</td>\n",
              "      <td>180000.0</td>\n",
              "      <td>...</td>\n",
              "      <td>8062</td>\n",
              "      <td>18.000000</td>\n",
              "      <td>-0.980827</td>\n",
              "    </tr>\n",
              "    <tr>\n",
              "      <th>3</th>\n",
              "      <td>2487200875</td>\n",
              "      <td>20141209T000000</td>\n",
              "      <td>604000.0</td>\n",
              "      <td>...</td>\n",
              "      <td>5000</td>\n",
              "      <td>120.800000</td>\n",
              "      <td>0.174086</td>\n",
              "    </tr>\n",
              "    <tr>\n",
              "      <th>4</th>\n",
              "      <td>1954400510</td>\n",
              "      <td>20150218T000000</td>\n",
              "      <td>510000.0</td>\n",
              "      <td>...</td>\n",
              "      <td>7503</td>\n",
              "      <td>63.118812</td>\n",
              "      <td>-0.081956</td>\n",
              "    </tr>\n",
              "    <tr>\n",
              "      <th>...</th>\n",
              "      <td>...</td>\n",
              "      <td>...</td>\n",
              "      <td>...</td>\n",
              "      <td>...</td>\n",
              "      <td>...</td>\n",
              "      <td>...</td>\n",
              "      <td>...</td>\n",
              "    </tr>\n",
              "    <tr>\n",
              "      <th>21608</th>\n",
              "      <td>263000018</td>\n",
              "      <td>20140521T000000</td>\n",
              "      <td>360000.0</td>\n",
              "      <td>...</td>\n",
              "      <td>1509</td>\n",
              "      <td>318.302387</td>\n",
              "      <td>-0.490533</td>\n",
              "    </tr>\n",
              "    <tr>\n",
              "      <th>21609</th>\n",
              "      <td>6600060120</td>\n",
              "      <td>20150223T000000</td>\n",
              "      <td>400000.0</td>\n",
              "      <td>...</td>\n",
              "      <td>7200</td>\n",
              "      <td>68.811285</td>\n",
              "      <td>-0.381579</td>\n",
              "    </tr>\n",
              "    <tr>\n",
              "      <th>21610</th>\n",
              "      <td>1523300141</td>\n",
              "      <td>20140623T000000</td>\n",
              "      <td>402101.0</td>\n",
              "      <td>...</td>\n",
              "      <td>2007</td>\n",
              "      <td>297.852593</td>\n",
              "      <td>-0.375856</td>\n",
              "    </tr>\n",
              "    <tr>\n",
              "      <th>21611</th>\n",
              "      <td>291310100</td>\n",
              "      <td>20150116T000000</td>\n",
              "      <td>400000.0</td>\n",
              "      <td>...</td>\n",
              "      <td>1287</td>\n",
              "      <td>167.504188</td>\n",
              "      <td>-0.381579</td>\n",
              "    </tr>\n",
              "    <tr>\n",
              "      <th>21612</th>\n",
              "      <td>1523300157</td>\n",
              "      <td>20141015T000000</td>\n",
              "      <td>325000.0</td>\n",
              "      <td>...</td>\n",
              "      <td>1357</td>\n",
              "      <td>302.044610</td>\n",
              "      <td>-0.585868</td>\n",
              "    </tr>\n",
              "  </tbody>\n",
              "</table>\n",
              "<p>21613 rows × 23 columns</p>\n",
              "</div>"
            ],
            "text/plain": [
              "               id             date     price  ...  sqft_lot15  pricepersqft  \\\n",
              "0      7129300520  20141013T000000  221900.0  ...        5650     39.274336   \n",
              "1      6414100192  20141209T000000  538000.0  ...        7639     74.288870   \n",
              "2      5631500400  20150225T000000  180000.0  ...        8062     18.000000   \n",
              "3      2487200875  20141209T000000  604000.0  ...        5000    120.800000   \n",
              "4      1954400510  20150218T000000  510000.0  ...        7503     63.118812   \n",
              "...           ...              ...       ...  ...         ...           ...   \n",
              "21608   263000018  20140521T000000  360000.0  ...        1509    318.302387   \n",
              "21609  6600060120  20150223T000000  400000.0  ...        7200     68.811285   \n",
              "21610  1523300141  20140623T000000  402101.0  ...        2007    297.852593   \n",
              "21611   291310100  20150116T000000  400000.0  ...        1287    167.504188   \n",
              "21612  1523300157  20141015T000000  325000.0  ...        1357    302.044610   \n",
              "\n",
              "         zscore  \n",
              "0     -0.866697  \n",
              "1     -0.005688  \n",
              "2     -0.980827  \n",
              "3      0.174086  \n",
              "4     -0.081956  \n",
              "...         ...  \n",
              "21608 -0.490533  \n",
              "21609 -0.381579  \n",
              "21610 -0.375856  \n",
              "21611 -0.381579  \n",
              "21612 -0.585868  \n",
              "\n",
              "[21613 rows x 23 columns]"
            ]
          },
          "metadata": {},
          "execution_count": 73
        }
      ]
    },
    {
      "cell_type": "code",
      "metadata": {
        "colab": {
          "base_uri": "https://localhost:8080/",
          "height": 324
        },
        "id": "bZlnY0kxa2oG",
        "outputId": "36fda19d-5ac1-4784-b04b-9db621f3d1c0"
      },
      "source": [
        "housedata_df.describe()"
      ],
      "execution_count": null,
      "outputs": [
        {
          "output_type": "execute_result",
          "data": {
            "text/html": [
              "<div>\n",
              "<style scoped>\n",
              "    .dataframe tbody tr th:only-of-type {\n",
              "        vertical-align: middle;\n",
              "    }\n",
              "\n",
              "    .dataframe tbody tr th {\n",
              "        vertical-align: top;\n",
              "    }\n",
              "\n",
              "    .dataframe thead th {\n",
              "        text-align: right;\n",
              "    }\n",
              "</style>\n",
              "<table border=\"1\" class=\"dataframe\">\n",
              "  <thead>\n",
              "    <tr style=\"text-align: right;\">\n",
              "      <th></th>\n",
              "      <th>id</th>\n",
              "      <th>price</th>\n",
              "      <th>bedrooms</th>\n",
              "      <th>...</th>\n",
              "      <th>sqft_lot15</th>\n",
              "      <th>pricepersqft</th>\n",
              "      <th>zscore</th>\n",
              "    </tr>\n",
              "  </thead>\n",
              "  <tbody>\n",
              "    <tr>\n",
              "      <th>count</th>\n",
              "      <td>2.161300e+04</td>\n",
              "      <td>2.161300e+04</td>\n",
              "      <td>21613.000000</td>\n",
              "      <td>...</td>\n",
              "      <td>21613.000000</td>\n",
              "      <td>21613.000000</td>\n",
              "      <td>2.161300e+04</td>\n",
              "    </tr>\n",
              "    <tr>\n",
              "      <th>mean</th>\n",
              "      <td>4.580302e+09</td>\n",
              "      <td>5.400881e+05</td>\n",
              "      <td>3.370842</td>\n",
              "      <td>...</td>\n",
              "      <td>12768.455652</td>\n",
              "      <td>88.966710</td>\n",
              "      <td>-2.099936e-17</td>\n",
              "    </tr>\n",
              "    <tr>\n",
              "      <th>std</th>\n",
              "      <td>2.876566e+09</td>\n",
              "      <td>3.671272e+05</td>\n",
              "      <td>0.930062</td>\n",
              "      <td>...</td>\n",
              "      <td>27304.179631</td>\n",
              "      <td>94.055247</td>\n",
              "      <td>1.000000e+00</td>\n",
              "    </tr>\n",
              "    <tr>\n",
              "      <th>min</th>\n",
              "      <td>1.000102e+06</td>\n",
              "      <td>7.500000e+04</td>\n",
              "      <td>0.000000</td>\n",
              "      <td>...</td>\n",
              "      <td>651.000000</td>\n",
              "      <td>0.163119</td>\n",
              "      <td>-1.266831e+00</td>\n",
              "    </tr>\n",
              "    <tr>\n",
              "      <th>25%</th>\n",
              "      <td>2.123049e+09</td>\n",
              "      <td>3.219500e+05</td>\n",
              "      <td>3.000000</td>\n",
              "      <td>...</td>\n",
              "      <td>5100.000000</td>\n",
              "      <td>33.333333</td>\n",
              "      <td>-5.941759e-01</td>\n",
              "    </tr>\n",
              "    <tr>\n",
              "      <th>50%</th>\n",
              "      <td>3.904930e+09</td>\n",
              "      <td>4.500000e+05</td>\n",
              "      <td>3.000000</td>\n",
              "      <td>...</td>\n",
              "      <td>7620.000000</td>\n",
              "      <td>59.223301</td>\n",
              "      <td>-2.453867e-01</td>\n",
              "    </tr>\n",
              "    <tr>\n",
              "      <th>75%</th>\n",
              "      <td>7.308900e+09</td>\n",
              "      <td>6.450000e+05</td>\n",
              "      <td>4.000000</td>\n",
              "      <td>...</td>\n",
              "      <td>10083.000000</td>\n",
              "      <td>107.594937</td>\n",
              "      <td>2.857643e-01</td>\n",
              "    </tr>\n",
              "    <tr>\n",
              "      <th>max</th>\n",
              "      <td>9.900000e+09</td>\n",
              "      <td>7.700000e+06</td>\n",
              "      <td>33.000000</td>\n",
              "      <td>...</td>\n",
              "      <td>871200.000000</td>\n",
              "      <td>2027.208539</td>\n",
              "      <td>1.950254e+01</td>\n",
              "    </tr>\n",
              "  </tbody>\n",
              "</table>\n",
              "<p>8 rows × 22 columns</p>\n",
              "</div>"
            ],
            "text/plain": [
              "                 id         price      bedrooms  ...     sqft_lot15  \\\n",
              "count  2.161300e+04  2.161300e+04  21613.000000  ...   21613.000000   \n",
              "mean   4.580302e+09  5.400881e+05      3.370842  ...   12768.455652   \n",
              "std    2.876566e+09  3.671272e+05      0.930062  ...   27304.179631   \n",
              "min    1.000102e+06  7.500000e+04      0.000000  ...     651.000000   \n",
              "25%    2.123049e+09  3.219500e+05      3.000000  ...    5100.000000   \n",
              "50%    3.904930e+09  4.500000e+05      3.000000  ...    7620.000000   \n",
              "75%    7.308900e+09  6.450000e+05      4.000000  ...   10083.000000   \n",
              "max    9.900000e+09  7.700000e+06     33.000000  ...  871200.000000   \n",
              "\n",
              "       pricepersqft        zscore  \n",
              "count  21613.000000  2.161300e+04  \n",
              "mean      88.966710 -2.099936e-17  \n",
              "std       94.055247  1.000000e+00  \n",
              "min        0.163119 -1.266831e+00  \n",
              "25%       33.333333 -5.941759e-01  \n",
              "50%       59.223301 -2.453867e-01  \n",
              "75%      107.594937  2.857643e-01  \n",
              "max     2027.208539  1.950254e+01  \n",
              "\n",
              "[8 rows x 22 columns]"
            ]
          },
          "metadata": {},
          "execution_count": 74
        }
      ]
    },
    {
      "cell_type": "code",
      "metadata": {
        "colab": {
          "base_uri": "https://localhost:8080/"
        },
        "id": "bpuyBJoqa520",
        "outputId": "b4936f84-a2fc-40cd-ab08-a1994d94d6ca"
      },
      "source": [
        "Q1 = housedata_df.price.quantile(0.25)\n",
        "Q3 = housedata_df.price.quantile(0.75)\n",
        "Q1, Q3"
      ],
      "execution_count": null,
      "outputs": [
        {
          "output_type": "execute_result",
          "data": {
            "text/plain": [
              "(321950.0, 645000.0)"
            ]
          },
          "metadata": {},
          "execution_count": 76
        }
      ]
    },
    {
      "cell_type": "code",
      "metadata": {
        "colab": {
          "base_uri": "https://localhost:8080/"
        },
        "id": "scdYiXtwbUmW",
        "outputId": "03505138-d4ac-4663-fa3a-243822698ea1"
      },
      "source": [
        "IQR = Q3 - Q1\n",
        "IQR"
      ],
      "execution_count": null,
      "outputs": [
        {
          "output_type": "execute_result",
          "data": {
            "text/plain": [
              "323050.0"
            ]
          },
          "metadata": {},
          "execution_count": 77
        }
      ]
    },
    {
      "cell_type": "code",
      "metadata": {
        "colab": {
          "base_uri": "https://localhost:8080/"
        },
        "id": "hNcccITHbYTe",
        "outputId": "c06056c6-c57d-41ca-e79f-9d325c28241b"
      },
      "source": [
        "lower_limit = Q1 - 1.5*IQR\n",
        "upper_limit = Q3 + 1.5*IQR\n",
        "lower_limit, upper_limit"
      ],
      "execution_count": null,
      "outputs": [
        {
          "output_type": "execute_result",
          "data": {
            "text/plain": [
              "(-162625.0, 1129575.0)"
            ]
          },
          "metadata": {},
          "execution_count": 78
        }
      ]
    },
    {
      "cell_type": "code",
      "metadata": {
        "colab": {
          "base_uri": "https://localhost:8080/",
          "height": 417
        },
        "id": "fl5v6d3IbkLb",
        "outputId": "a009164c-a950-426e-ad5f-ee77d0261ebe"
      },
      "source": [
        "housedata_df[(housedata_df.price<lower_limit)|(housedata_df.price>upper_limit)]"
      ],
      "execution_count": null,
      "outputs": [
        {
          "output_type": "execute_result",
          "data": {
            "text/html": [
              "<div>\n",
              "<style scoped>\n",
              "    .dataframe tbody tr th:only-of-type {\n",
              "        vertical-align: middle;\n",
              "    }\n",
              "\n",
              "    .dataframe tbody tr th {\n",
              "        vertical-align: top;\n",
              "    }\n",
              "\n",
              "    .dataframe thead th {\n",
              "        text-align: right;\n",
              "    }\n",
              "</style>\n",
              "<table border=\"1\" class=\"dataframe\">\n",
              "  <thead>\n",
              "    <tr style=\"text-align: right;\">\n",
              "      <th></th>\n",
              "      <th>id</th>\n",
              "      <th>date</th>\n",
              "      <th>price</th>\n",
              "      <th>...</th>\n",
              "      <th>sqft_lot15</th>\n",
              "      <th>pricepersqft</th>\n",
              "      <th>zscore</th>\n",
              "    </tr>\n",
              "  </thead>\n",
              "  <tbody>\n",
              "    <tr>\n",
              "      <th>5</th>\n",
              "      <td>7237550310</td>\n",
              "      <td>20140512T000000</td>\n",
              "      <td>1225000.0</td>\n",
              "      <td>...</td>\n",
              "      <td>101930</td>\n",
              "      <td>12.018052</td>\n",
              "      <td>1.865598</td>\n",
              "    </tr>\n",
              "    <tr>\n",
              "      <th>21</th>\n",
              "      <td>2524049179</td>\n",
              "      <td>20140826T000000</td>\n",
              "      <td>2000000.0</td>\n",
              "      <td>...</td>\n",
              "      <td>20336</td>\n",
              "      <td>44.576192</td>\n",
              "      <td>3.976583</td>\n",
              "    </tr>\n",
              "    <tr>\n",
              "      <th>49</th>\n",
              "      <td>822039084</td>\n",
              "      <td>20150311T000000</td>\n",
              "      <td>1350000.0</td>\n",
              "      <td>...</td>\n",
              "      <td>72513</td>\n",
              "      <td>20.767633</td>\n",
              "      <td>2.206080</td>\n",
              "    </tr>\n",
              "    <tr>\n",
              "      <th>69</th>\n",
              "      <td>1802000060</td>\n",
              "      <td>20140612T000000</td>\n",
              "      <td>1325000.0</td>\n",
              "      <td>...</td>\n",
              "      <td>20158</td>\n",
              "      <td>65.730727</td>\n",
              "      <td>2.137983</td>\n",
              "    </tr>\n",
              "    <tr>\n",
              "      <th>125</th>\n",
              "      <td>4389200955</td>\n",
              "      <td>20150302T000000</td>\n",
              "      <td>1450000.0</td>\n",
              "      <td>...</td>\n",
              "      <td>11275</td>\n",
              "      <td>81.511046</td>\n",
              "      <td>2.478465</td>\n",
              "    </tr>\n",
              "    <tr>\n",
              "      <th>...</th>\n",
              "      <td>...</td>\n",
              "      <td>...</td>\n",
              "      <td>...</td>\n",
              "      <td>...</td>\n",
              "      <td>...</td>\n",
              "      <td>...</td>\n",
              "      <td>...</td>\n",
              "    </tr>\n",
              "    <tr>\n",
              "      <th>21568</th>\n",
              "      <td>524059330</td>\n",
              "      <td>20150130T000000</td>\n",
              "      <td>1700000.0</td>\n",
              "      <td>...</td>\n",
              "      <td>10777</td>\n",
              "      <td>189.668638</td>\n",
              "      <td>3.159428</td>\n",
              "    </tr>\n",
              "    <tr>\n",
              "      <th>21576</th>\n",
              "      <td>9253900271</td>\n",
              "      <td>20150107T000000</td>\n",
              "      <td>3567000.0</td>\n",
              "      <td>...</td>\n",
              "      <td>18270</td>\n",
              "      <td>337.018141</td>\n",
              "      <td>8.244859</td>\n",
              "    </tr>\n",
              "    <tr>\n",
              "      <th>21590</th>\n",
              "      <td>7430200100</td>\n",
              "      <td>20140514T000000</td>\n",
              "      <td>1222500.0</td>\n",
              "      <td>...</td>\n",
              "      <td>11063</td>\n",
              "      <td>129.447268</td>\n",
              "      <td>1.858789</td>\n",
              "    </tr>\n",
              "    <tr>\n",
              "      <th>21597</th>\n",
              "      <td>191100405</td>\n",
              "      <td>20150421T000000</td>\n",
              "      <td>1575000.0</td>\n",
              "      <td>...</td>\n",
              "      <td>10125</td>\n",
              "      <td>155.555556</td>\n",
              "      <td>2.818946</td>\n",
              "    </tr>\n",
              "    <tr>\n",
              "      <th>21600</th>\n",
              "      <td>249000205</td>\n",
              "      <td>20141015T000000</td>\n",
              "      <td>1537000.0</td>\n",
              "      <td>...</td>\n",
              "      <td>8964</td>\n",
              "      <td>190.034619</td>\n",
              "      <td>2.715440</td>\n",
              "    </tr>\n",
              "  </tbody>\n",
              "</table>\n",
              "<p>1146 rows × 23 columns</p>\n",
              "</div>"
            ],
            "text/plain": [
              "               id             date      price  ...  sqft_lot15  pricepersqft  \\\n",
              "5      7237550310  20140512T000000  1225000.0  ...      101930     12.018052   \n",
              "21     2524049179  20140826T000000  2000000.0  ...       20336     44.576192   \n",
              "49      822039084  20150311T000000  1350000.0  ...       72513     20.767633   \n",
              "69     1802000060  20140612T000000  1325000.0  ...       20158     65.730727   \n",
              "125    4389200955  20150302T000000  1450000.0  ...       11275     81.511046   \n",
              "...           ...              ...        ...  ...         ...           ...   \n",
              "21568   524059330  20150130T000000  1700000.0  ...       10777    189.668638   \n",
              "21576  9253900271  20150107T000000  3567000.0  ...       18270    337.018141   \n",
              "21590  7430200100  20140514T000000  1222500.0  ...       11063    129.447268   \n",
              "21597   191100405  20150421T000000  1575000.0  ...       10125    155.555556   \n",
              "21600   249000205  20141015T000000  1537000.0  ...        8964    190.034619   \n",
              "\n",
              "         zscore  \n",
              "5      1.865598  \n",
              "21     3.976583  \n",
              "49     2.206080  \n",
              "69     2.137983  \n",
              "125    2.478465  \n",
              "...         ...  \n",
              "21568  3.159428  \n",
              "21576  8.244859  \n",
              "21590  1.858789  \n",
              "21597  2.818946  \n",
              "21600  2.715440  \n",
              "\n",
              "[1146 rows x 23 columns]"
            ]
          },
          "metadata": {},
          "execution_count": 79
        }
      ]
    },
    {
      "cell_type": "code",
      "metadata": {
        "colab": {
          "base_uri": "https://localhost:8080/",
          "height": 417
        },
        "id": "tUgAYWePcHir",
        "outputId": "02a27aec-5c73-46f2-d7ed-08d4b7bad6f8"
      },
      "source": [
        "housedata_df_no_outlier = housedata_df[(housedata_df.price>lower_limit)&(housedata_df.price<upper_limit)]\n",
        "housedata_df_no_outlier"
      ],
      "execution_count": null,
      "outputs": [
        {
          "output_type": "execute_result",
          "data": {
            "text/html": [
              "<div>\n",
              "<style scoped>\n",
              "    .dataframe tbody tr th:only-of-type {\n",
              "        vertical-align: middle;\n",
              "    }\n",
              "\n",
              "    .dataframe tbody tr th {\n",
              "        vertical-align: top;\n",
              "    }\n",
              "\n",
              "    .dataframe thead th {\n",
              "        text-align: right;\n",
              "    }\n",
              "</style>\n",
              "<table border=\"1\" class=\"dataframe\">\n",
              "  <thead>\n",
              "    <tr style=\"text-align: right;\">\n",
              "      <th></th>\n",
              "      <th>id</th>\n",
              "      <th>date</th>\n",
              "      <th>price</th>\n",
              "      <th>...</th>\n",
              "      <th>sqft_lot15</th>\n",
              "      <th>pricepersqft</th>\n",
              "      <th>zscore</th>\n",
              "    </tr>\n",
              "  </thead>\n",
              "  <tbody>\n",
              "    <tr>\n",
              "      <th>0</th>\n",
              "      <td>7129300520</td>\n",
              "      <td>20141013T000000</td>\n",
              "      <td>221900.0</td>\n",
              "      <td>...</td>\n",
              "      <td>5650</td>\n",
              "      <td>39.274336</td>\n",
              "      <td>-0.866697</td>\n",
              "    </tr>\n",
              "    <tr>\n",
              "      <th>1</th>\n",
              "      <td>6414100192</td>\n",
              "      <td>20141209T000000</td>\n",
              "      <td>538000.0</td>\n",
              "      <td>...</td>\n",
              "      <td>7639</td>\n",
              "      <td>74.288870</td>\n",
              "      <td>-0.005688</td>\n",
              "    </tr>\n",
              "    <tr>\n",
              "      <th>2</th>\n",
              "      <td>5631500400</td>\n",
              "      <td>20150225T000000</td>\n",
              "      <td>180000.0</td>\n",
              "      <td>...</td>\n",
              "      <td>8062</td>\n",
              "      <td>18.000000</td>\n",
              "      <td>-0.980827</td>\n",
              "    </tr>\n",
              "    <tr>\n",
              "      <th>3</th>\n",
              "      <td>2487200875</td>\n",
              "      <td>20141209T000000</td>\n",
              "      <td>604000.0</td>\n",
              "      <td>...</td>\n",
              "      <td>5000</td>\n",
              "      <td>120.800000</td>\n",
              "      <td>0.174086</td>\n",
              "    </tr>\n",
              "    <tr>\n",
              "      <th>4</th>\n",
              "      <td>1954400510</td>\n",
              "      <td>20150218T000000</td>\n",
              "      <td>510000.0</td>\n",
              "      <td>...</td>\n",
              "      <td>7503</td>\n",
              "      <td>63.118812</td>\n",
              "      <td>-0.081956</td>\n",
              "    </tr>\n",
              "    <tr>\n",
              "      <th>...</th>\n",
              "      <td>...</td>\n",
              "      <td>...</td>\n",
              "      <td>...</td>\n",
              "      <td>...</td>\n",
              "      <td>...</td>\n",
              "      <td>...</td>\n",
              "      <td>...</td>\n",
              "    </tr>\n",
              "    <tr>\n",
              "      <th>21608</th>\n",
              "      <td>263000018</td>\n",
              "      <td>20140521T000000</td>\n",
              "      <td>360000.0</td>\n",
              "      <td>...</td>\n",
              "      <td>1509</td>\n",
              "      <td>318.302387</td>\n",
              "      <td>-0.490533</td>\n",
              "    </tr>\n",
              "    <tr>\n",
              "      <th>21609</th>\n",
              "      <td>6600060120</td>\n",
              "      <td>20150223T000000</td>\n",
              "      <td>400000.0</td>\n",
              "      <td>...</td>\n",
              "      <td>7200</td>\n",
              "      <td>68.811285</td>\n",
              "      <td>-0.381579</td>\n",
              "    </tr>\n",
              "    <tr>\n",
              "      <th>21610</th>\n",
              "      <td>1523300141</td>\n",
              "      <td>20140623T000000</td>\n",
              "      <td>402101.0</td>\n",
              "      <td>...</td>\n",
              "      <td>2007</td>\n",
              "      <td>297.852593</td>\n",
              "      <td>-0.375856</td>\n",
              "    </tr>\n",
              "    <tr>\n",
              "      <th>21611</th>\n",
              "      <td>291310100</td>\n",
              "      <td>20150116T000000</td>\n",
              "      <td>400000.0</td>\n",
              "      <td>...</td>\n",
              "      <td>1287</td>\n",
              "      <td>167.504188</td>\n",
              "      <td>-0.381579</td>\n",
              "    </tr>\n",
              "    <tr>\n",
              "      <th>21612</th>\n",
              "      <td>1523300157</td>\n",
              "      <td>20141015T000000</td>\n",
              "      <td>325000.0</td>\n",
              "      <td>...</td>\n",
              "      <td>1357</td>\n",
              "      <td>302.044610</td>\n",
              "      <td>-0.585868</td>\n",
              "    </tr>\n",
              "  </tbody>\n",
              "</table>\n",
              "<p>20467 rows × 23 columns</p>\n",
              "</div>"
            ],
            "text/plain": [
              "               id             date     price  ...  sqft_lot15  pricepersqft  \\\n",
              "0      7129300520  20141013T000000  221900.0  ...        5650     39.274336   \n",
              "1      6414100192  20141209T000000  538000.0  ...        7639     74.288870   \n",
              "2      5631500400  20150225T000000  180000.0  ...        8062     18.000000   \n",
              "3      2487200875  20141209T000000  604000.0  ...        5000    120.800000   \n",
              "4      1954400510  20150218T000000  510000.0  ...        7503     63.118812   \n",
              "...           ...              ...       ...  ...         ...           ...   \n",
              "21608   263000018  20140521T000000  360000.0  ...        1509    318.302387   \n",
              "21609  6600060120  20150223T000000  400000.0  ...        7200     68.811285   \n",
              "21610  1523300141  20140623T000000  402101.0  ...        2007    297.852593   \n",
              "21611   291310100  20150116T000000  400000.0  ...        1287    167.504188   \n",
              "21612  1523300157  20141015T000000  325000.0  ...        1357    302.044610   \n",
              "\n",
              "         zscore  \n",
              "0     -0.866697  \n",
              "1     -0.005688  \n",
              "2     -0.980827  \n",
              "3      0.174086  \n",
              "4     -0.081956  \n",
              "...         ...  \n",
              "21608 -0.490533  \n",
              "21609 -0.381579  \n",
              "21610 -0.375856  \n",
              "21611 -0.381579  \n",
              "21612 -0.585868  \n",
              "\n",
              "[20467 rows x 23 columns]"
            ]
          },
          "metadata": {},
          "execution_count": 84
        }
      ]
    },
    {
      "cell_type": "code",
      "metadata": {
        "colab": {
          "base_uri": "https://localhost:8080/",
          "height": 316
        },
        "id": "9-WLDw7pdSJg",
        "outputId": "2b5ab3f8-3f72-47de-9b1f-41b46344a54f"
      },
      "source": [
        "%matplotlib inline\n",
        "housedata_df.price.plot.bar()"
      ],
      "execution_count": null,
      "outputs": [
        {
          "output_type": "execute_result",
          "data": {
            "text/plain": [
              "<matplotlib.axes._subplots.AxesSubplot at 0x7f5d15bdbbd0>"
            ]
          },
          "metadata": {},
          "execution_count": 85
        },
        {
          "output_type": "display_data",
          "data": {
            "image/png": "[encoded data removed]",
            "text/plain": [
              "<Figure size 432x288 with 1 Axes>"
            ]
          },
          "metadata": {
            "needs_background": "light"
          }
        }
      ]
    },
    {
      "cell_type": "code",
      "metadata": {
        "colab": {
          "base_uri": "https://localhost:8080/",
          "height": 417
        },
        "id": "c_n24gdze_Kb",
        "outputId": "33adb5d3-3ecf-4bb1-9486-1a212b1ab91c"
      },
      "source": [
        "new_housedata_df = housedata_df.fillna(0)\n",
        "new_housedata_df"
      ],
      "execution_count": null,
      "outputs": [
        {
          "output_type": "execute_result",
          "data": {
            "text/html": [
              "<div>\n",
              "<style scoped>\n",
              "    .dataframe tbody tr th:only-of-type {\n",
              "        vertical-align: middle;\n",
              "    }\n",
              "\n",
              "    .dataframe tbody tr th {\n",
              "        vertical-align: top;\n",
              "    }\n",
              "\n",
              "    .dataframe thead th {\n",
              "        text-align: right;\n",
              "    }\n",
              "</style>\n",
              "<table border=\"1\" class=\"dataframe\">\n",
              "  <thead>\n",
              "    <tr style=\"text-align: right;\">\n",
              "      <th></th>\n",
              "      <th>id</th>\n",
              "      <th>date</th>\n",
              "      <th>price</th>\n",
              "      <th>...</th>\n",
              "      <th>sqft_lot15</th>\n",
              "      <th>pricepersqft</th>\n",
              "      <th>zscore</th>\n",
              "    </tr>\n",
              "  </thead>\n",
              "  <tbody>\n",
              "    <tr>\n",
              "      <th>0</th>\n",
              "      <td>7129300520</td>\n",
              "      <td>20141013T000000</td>\n",
              "      <td>221900.0</td>\n",
              "      <td>...</td>\n",
              "      <td>5650</td>\n",
              "      <td>39.274336</td>\n",
              "      <td>-0.866697</td>\n",
              "    </tr>\n",
              "    <tr>\n",
              "      <th>1</th>\n",
              "      <td>6414100192</td>\n",
              "      <td>20141209T000000</td>\n",
              "      <td>538000.0</td>\n",
              "      <td>...</td>\n",
              "      <td>7639</td>\n",
              "      <td>74.288870</td>\n",
              "      <td>-0.005688</td>\n",
              "    </tr>\n",
              "    <tr>\n",
              "      <th>2</th>\n",
              "      <td>5631500400</td>\n",
              "      <td>20150225T000000</td>\n",
              "      <td>180000.0</td>\n",
              "      <td>...</td>\n",
              "      <td>8062</td>\n",
              "      <td>18.000000</td>\n",
              "      <td>-0.980827</td>\n",
              "    </tr>\n",
              "    <tr>\n",
              "      <th>3</th>\n",
              "      <td>2487200875</td>\n",
              "      <td>20141209T000000</td>\n",
              "      <td>604000.0</td>\n",
              "      <td>...</td>\n",
              "      <td>5000</td>\n",
              "      <td>120.800000</td>\n",
              "      <td>0.174086</td>\n",
              "    </tr>\n",
              "    <tr>\n",
              "      <th>4</th>\n",
              "      <td>1954400510</td>\n",
              "      <td>20150218T000000</td>\n",
              "      <td>510000.0</td>\n",
              "      <td>...</td>\n",
              "      <td>7503</td>\n",
              "      <td>63.118812</td>\n",
              "      <td>-0.081956</td>\n",
              "    </tr>\n",
              "    <tr>\n",
              "      <th>...</th>\n",
              "      <td>...</td>\n",
              "      <td>...</td>\n",
              "      <td>...</td>\n",
              "      <td>...</td>\n",
              "      <td>...</td>\n",
              "      <td>...</td>\n",
              "      <td>...</td>\n",
              "    </tr>\n",
              "    <tr>\n",
              "      <th>21608</th>\n",
              "      <td>263000018</td>\n",
              "      <td>20140521T000000</td>\n",
              "      <td>360000.0</td>\n",
              "      <td>...</td>\n",
              "      <td>1509</td>\n",
              "      <td>318.302387</td>\n",
              "      <td>-0.490533</td>\n",
              "    </tr>\n",
              "    <tr>\n",
              "      <th>21609</th>\n",
              "      <td>6600060120</td>\n",
              "      <td>20150223T000000</td>\n",
              "      <td>400000.0</td>\n",
              "      <td>...</td>\n",
              "      <td>7200</td>\n",
              "      <td>68.811285</td>\n",
              "      <td>-0.381579</td>\n",
              "    </tr>\n",
              "    <tr>\n",
              "      <th>21610</th>\n",
              "      <td>1523300141</td>\n",
              "      <td>20140623T000000</td>\n",
              "      <td>402101.0</td>\n",
              "      <td>...</td>\n",
              "      <td>2007</td>\n",
              "      <td>297.852593</td>\n",
              "      <td>-0.375856</td>\n",
              "    </tr>\n",
              "    <tr>\n",
              "      <th>21611</th>\n",
              "      <td>291310100</td>\n",
              "      <td>20150116T000000</td>\n",
              "      <td>400000.0</td>\n",
              "      <td>...</td>\n",
              "      <td>1287</td>\n",
              "      <td>167.504188</td>\n",
              "      <td>-0.381579</td>\n",
              "    </tr>\n",
              "    <tr>\n",
              "      <th>21612</th>\n",
              "      <td>1523300157</td>\n",
              "      <td>20141015T000000</td>\n",
              "      <td>325000.0</td>\n",
              "      <td>...</td>\n",
              "      <td>1357</td>\n",
              "      <td>302.044610</td>\n",
              "      <td>-0.585868</td>\n",
              "    </tr>\n",
              "  </tbody>\n",
              "</table>\n",
              "<p>21613 rows × 23 columns</p>\n",
              "</div>"
            ],
            "text/plain": [
              "               id             date     price  ...  sqft_lot15  pricepersqft  \\\n",
              "0      7129300520  20141013T000000  221900.0  ...        5650     39.274336   \n",
              "1      6414100192  20141209T000000  538000.0  ...        7639     74.288870   \n",
              "2      5631500400  20150225T000000  180000.0  ...        8062     18.000000   \n",
              "3      2487200875  20141209T000000  604000.0  ...        5000    120.800000   \n",
              "4      1954400510  20150218T000000  510000.0  ...        7503     63.118812   \n",
              "...           ...              ...       ...  ...         ...           ...   \n",
              "21608   263000018  20140521T000000  360000.0  ...        1509    318.302387   \n",
              "21609  6600060120  20150223T000000  400000.0  ...        7200     68.811285   \n",
              "21610  1523300141  20140623T000000  402101.0  ...        2007    297.852593   \n",
              "21611   291310100  20150116T000000  400000.0  ...        1287    167.504188   \n",
              "21612  1523300157  20141015T000000  325000.0  ...        1357    302.044610   \n",
              "\n",
              "         zscore  \n",
              "0     -0.866697  \n",
              "1     -0.005688  \n",
              "2     -0.980827  \n",
              "3      0.174086  \n",
              "4     -0.081956  \n",
              "...         ...  \n",
              "21608 -0.490533  \n",
              "21609 -0.381579  \n",
              "21610 -0.375856  \n",
              "21611 -0.381579  \n",
              "21612 -0.585868  \n",
              "\n",
              "[21613 rows x 23 columns]"
            ]
          },
          "metadata": {},
          "execution_count": 87
        }
      ]
    },
    {
      "cell_type": "code",
      "metadata": {
        "colab": {
          "base_uri": "https://localhost:8080/",
          "height": 417
        },
        "id": "pF-Mzsvofuay",
        "outputId": "c73553d3-b1a1-413b-eaa6-f764c7059e22"
      },
      "source": [
        "housedata_df"
      ],
      "execution_count": null,
      "outputs": [
        {
          "output_type": "execute_result",
          "data": {
            "text/html": [
              "<div>\n",
              "<style scoped>\n",
              "    .dataframe tbody tr th:only-of-type {\n",
              "        vertical-align: middle;\n",
              "    }\n",
              "\n",
              "    .dataframe tbody tr th {\n",
              "        vertical-align: top;\n",
              "    }\n",
              "\n",
              "    .dataframe thead th {\n",
              "        text-align: right;\n",
              "    }\n",
              "</style>\n",
              "<table border=\"1\" class=\"dataframe\">\n",
              "  <thead>\n",
              "    <tr style=\"text-align: right;\">\n",
              "      <th></th>\n",
              "      <th>id</th>\n",
              "      <th>date</th>\n",
              "      <th>price</th>\n",
              "      <th>...</th>\n",
              "      <th>sqft_lot15</th>\n",
              "      <th>pricepersqft</th>\n",
              "      <th>zscore</th>\n",
              "    </tr>\n",
              "  </thead>\n",
              "  <tbody>\n",
              "    <tr>\n",
              "      <th>0</th>\n",
              "      <td>7129300520</td>\n",
              "      <td>20141013T000000</td>\n",
              "      <td>221900.0</td>\n",
              "      <td>...</td>\n",
              "      <td>5650</td>\n",
              "      <td>39.274336</td>\n",
              "      <td>-0.866697</td>\n",
              "    </tr>\n",
              "    <tr>\n",
              "      <th>1</th>\n",
              "      <td>6414100192</td>\n",
              "      <td>20141209T000000</td>\n",
              "      <td>538000.0</td>\n",
              "      <td>...</td>\n",
              "      <td>7639</td>\n",
              "      <td>74.288870</td>\n",
              "      <td>-0.005688</td>\n",
              "    </tr>\n",
              "    <tr>\n",
              "      <th>2</th>\n",
              "      <td>5631500400</td>\n",
              "      <td>20150225T000000</td>\n",
              "      <td>180000.0</td>\n",
              "      <td>...</td>\n",
              "      <td>8062</td>\n",
              "      <td>18.000000</td>\n",
              "      <td>-0.980827</td>\n",
              "    </tr>\n",
              "    <tr>\n",
              "      <th>3</th>\n",
              "      <td>2487200875</td>\n",
              "      <td>20141209T000000</td>\n",
              "      <td>604000.0</td>\n",
              "      <td>...</td>\n",
              "      <td>5000</td>\n",
              "      <td>120.800000</td>\n",
              "      <td>0.174086</td>\n",
              "    </tr>\n",
              "    <tr>\n",
              "      <th>4</th>\n",
              "      <td>1954400510</td>\n",
              "      <td>20150218T000000</td>\n",
              "      <td>510000.0</td>\n",
              "      <td>...</td>\n",
              "      <td>7503</td>\n",
              "      <td>63.118812</td>\n",
              "      <td>-0.081956</td>\n",
              "    </tr>\n",
              "    <tr>\n",
              "      <th>...</th>\n",
              "      <td>...</td>\n",
              "      <td>...</td>\n",
              "      <td>...</td>\n",
              "      <td>...</td>\n",
              "      <td>...</td>\n",
              "      <td>...</td>\n",
              "      <td>...</td>\n",
              "    </tr>\n",
              "    <tr>\n",
              "      <th>21608</th>\n",
              "      <td>263000018</td>\n",
              "      <td>20140521T000000</td>\n",
              "      <td>360000.0</td>\n",
              "      <td>...</td>\n",
              "      <td>1509</td>\n",
              "      <td>318.302387</td>\n",
              "      <td>-0.490533</td>\n",
              "    </tr>\n",
              "    <tr>\n",
              "      <th>21609</th>\n",
              "      <td>6600060120</td>\n",
              "      <td>20150223T000000</td>\n",
              "      <td>400000.0</td>\n",
              "      <td>...</td>\n",
              "      <td>7200</td>\n",
              "      <td>68.811285</td>\n",
              "      <td>-0.381579</td>\n",
              "    </tr>\n",
              "    <tr>\n",
              "      <th>21610</th>\n",
              "      <td>1523300141</td>\n",
              "      <td>20140623T000000</td>\n",
              "      <td>402101.0</td>\n",
              "      <td>...</td>\n",
              "      <td>2007</td>\n",
              "      <td>297.852593</td>\n",
              "      <td>-0.375856</td>\n",
              "    </tr>\n",
              "    <tr>\n",
              "      <th>21611</th>\n",
              "      <td>291310100</td>\n",
              "      <td>20150116T000000</td>\n",
              "      <td>400000.0</td>\n",
              "      <td>...</td>\n",
              "      <td>1287</td>\n",
              "      <td>167.504188</td>\n",
              "      <td>-0.381579</td>\n",
              "    </tr>\n",
              "    <tr>\n",
              "      <th>21612</th>\n",
              "      <td>1523300157</td>\n",
              "      <td>20141015T000000</td>\n",
              "      <td>325000.0</td>\n",
              "      <td>...</td>\n",
              "      <td>1357</td>\n",
              "      <td>302.044610</td>\n",
              "      <td>-0.585868</td>\n",
              "    </tr>\n",
              "  </tbody>\n",
              "</table>\n",
              "<p>21613 rows × 23 columns</p>\n",
              "</div>"
            ],
            "text/plain": [
              "               id             date     price  ...  sqft_lot15  pricepersqft  \\\n",
              "0      7129300520  20141013T000000  221900.0  ...        5650     39.274336   \n",
              "1      6414100192  20141209T000000  538000.0  ...        7639     74.288870   \n",
              "2      5631500400  20150225T000000  180000.0  ...        8062     18.000000   \n",
              "3      2487200875  20141209T000000  604000.0  ...        5000    120.800000   \n",
              "4      1954400510  20150218T000000  510000.0  ...        7503     63.118812   \n",
              "...           ...              ...       ...  ...         ...           ...   \n",
              "21608   263000018  20140521T000000  360000.0  ...        1509    318.302387   \n",
              "21609  6600060120  20150223T000000  400000.0  ...        7200     68.811285   \n",
              "21610  1523300141  20140623T000000  402101.0  ...        2007    297.852593   \n",
              "21611   291310100  20150116T000000  400000.0  ...        1287    167.504188   \n",
              "21612  1523300157  20141015T000000  325000.0  ...        1357    302.044610   \n",
              "\n",
              "         zscore  \n",
              "0     -0.866697  \n",
              "1     -0.005688  \n",
              "2     -0.980827  \n",
              "3      0.174086  \n",
              "4     -0.081956  \n",
              "...         ...  \n",
              "21608 -0.490533  \n",
              "21609 -0.381579  \n",
              "21610 -0.375856  \n",
              "21611 -0.381579  \n",
              "21612 -0.585868  \n",
              "\n",
              "[21613 rows x 23 columns]"
            ]
          },
          "metadata": {},
          "execution_count": 88
        }
      ]
    }
  ]
}